{
 "cells": [
  {
   "cell_type": "markdown",
   "id": "968b57c3-c3f2-4cbc-9f3d-267a58cc3404",
   "metadata": {},
   "source": [
    "DuckDB in JupyterLab - Geonames data\n",
    "====================================\n",
    "\n",
    "References:\n",
    "* DuckDB home page: https://duckdb.org/\n",
    "  + Documentation: https://duckdb.org/docs/\n",
    "* DuckDB project on GitHub: https://github.com/duckdb/duckdb\n",
    "* [GitHub - KS / Cheat Sheets - DuckDB (this project)](https://github.com/data-engineering-helpers/ks-cheat-sheets/tree/main/db/duckdb)\n",
    "  + [GitHub - KS / Cheat Sheets - DuckDB - Jupyter notebook (this notebook)](https://github.com/data-engineering-helpers/ks-cheat-sheets/blob/main/db/duckdb/ipython-notebooks/duckdb-geonames-basic.ipynb)"
   ]
  },
  {
   "cell_type": "code",
   "execution_count": 1,
   "id": "7972647e-c1fa-4645-a798-6caaaeaf2d66",
   "metadata": {},
   "outputs": [],
   "source": [
    "import duckdb\n",
    "import csv\n",
    "\n",
    "conn = duckdb.connect()\n",
    "conn = duckdb.connect(database='../db.duckdb', read_only=False)"
   ]
  },
  {
   "cell_type": "code",
   "execution_count": 17,
   "id": "8f688744-7f43-4241-b370-38ead8d7aa65",
   "metadata": {},
   "outputs": [],
   "source": [
    "# Data dir\n",
    "geoname_base_dir: str = \"../data\"\n",
    "geoname_csv_dir: str = f\"{geoname_base_dir}/csv\"\n",
    "geoname_pqt_dir: str = f\"{geoname_base_dir}/parquet\""
   ]
  },
  {
   "cell_type": "code",
   "execution_count": 18,
   "id": "e8a8b853-90ed-4076-b57d-8842c9953196",
   "metadata": {},
   "outputs": [
    {
     "name": "stdout",
     "output_type": "stream",
     "text": [
      "[[PosixPath('../data/../data/csv/.gitkeep'), PosixPath('../data/../data/csv/allCountries.txt'), PosixPath('../data/../data/csv/alternateNames.txt')], [PosixPath('../data/../data/parquet/.gitkeep'), PosixPath('../data/../data/parquet/geonames.parquet'), PosixPath('../data/../data/parquet/alternateNames.parquet'), PosixPath('../data/../data/parquet/allCountries.parquet')]]\n"
     ]
    }
   ],
   "source": [
    "from pathlib import Path\n",
    "\n",
    "def searching_all_files(directory: Path):   \n",
    "    file_list = [] # A list for storing files existing in directories\n",
    "\n",
    "    for x in directory.iterdir():\n",
    "        if x.is_file():\n",
    "\n",
    "           file_list.append(x)\n",
    "        else:\n",
    "\n",
    "           file_list.append(searching_all_files(directory/x))\n",
    "\n",
    "    return file_list\n",
    "\n",
    "\n",
    "print(searching_all_files(Path(geoname_base_dir)))"
   ]
  },
  {
   "cell_type": "code",
   "execution_count": 19,
   "id": "4e601b36-9970-40ca-8233-e54dec5cb973",
   "metadata": {},
   "outputs": [],
   "source": [
    "# allCountries\n",
    "geoname_allctry_fn: str = \"allCountries\"\n",
    "geoname_allctry_csv: str = f\"{geoname_csv_dir}/{geoname_allctry_fn}.txt\"\n",
    "geoname_allctry_pqt: str = f\"{geoname_pqt_dir}/{geoname_allctry_fn}.parquet\"\n",
    "\n",
    "# Alternate names\n",
    "geoname_altname_fn: str = \"alternateNames\"\n",
    "geoname_altname_csv: str = f\"{geoname_csv_dir}/{geoname_altname_fn}.txt\"\n",
    "geoname_altname_pqt: str = f\"{geoname_pqt_dir}/{geoname_altname_fn}.parquet\"\n",
    "\n",
    "def countRows():\n",
    "    \"\"\"\n",
    "    Check that everything goes right\n",
    "    \"\"\"\n",
    "    count_query: str = \"\"\"\n",
    "    select count(*)/1e6 as nb from allcountries\n",
    "    union all\n",
    "    select count(*)/1e6 as nb from altnames\n",
    "    union all\n",
    "    select count(*)/1e6 as nb from geonames\n",
    "    \"\"\"\n",
    "\n",
    "    nb_list = conn.execute(count_query).fetchall()\n",
    "    return nb_list\n",
    "\n",
    "def getNCErows():\n",
    "    \"\"\"\n",
    "    Retrieve all the records featuring NCE as the IATA code\n",
    "    \"\"\"\n",
    "    geoame_nce_query: str = \"select * from geonames where isoLanguage='iata' and alternateName='NCE'\"\n",
    "    nce_recs = conn.execute(geoame_nce_query).fetchall()\n",
    "    return nce_recs\n",
    "\n",
    "def getLILrows():\n",
    "    \"\"\"\n",
    "    Retrieve all the records featuring LIL as the IATA code\n",
    "    \"\"\"\n",
    "    geoame_lil_query: str = \"select * from geonames where isoLanguage='iata' and alternateName='LIL'\"\n",
    "    lil_recs = conn.execute(geoame_lil_query).fetchall()\n",
    "    return lil_recs"
   ]
  },
  {
   "cell_type": "code",
   "execution_count": 20,
   "id": "95a5e25d-aa64-49c0-82f4-6d157de4743c",
   "metadata": {},
   "outputs": [
    {
     "name": "stdout",
     "output_type": "stream",
     "text": [
      "Number of rows: [(12.400722,), (15.893953,), (15.893953,)]\n"
     ]
    }
   ],
   "source": [
    "nb_list = countRows()\n",
    "print(f\"Number of rows: {nb_list}\")"
   ]
  },
  {
   "cell_type": "code",
   "execution_count": 21,
   "id": "d3a84389-d497-482c-a5c4-a469a9f350b7",
   "metadata": {},
   "outputs": [
    {
     "name": "stdout",
     "output_type": "stream",
     "text": [
      "List of records featuring NCE as the IATA code:\n",
      "(2990440, 'Nice', 'Nice', 'NCE,Nica,Nicaea,Nicc,Nicca,Niccae,Nice,Nicea,Nico,Nikaia,Nis,Nisa,Nissa,Nissa Maritima,Nissa Marìtima,Nitza,Niza,Nizza,Niça,Nìsa,ni si,nis,nisa,niseu,nisu,nitsa,nys,Νίκαια,Ница,Ниццæ,Ницца,Ніца,Ніцца,Նիս,ניס,نيس,نیس,नीस,নিস,ਨੀਸ,நீஸ்,నీస్,นิส,ნიცა,ニース,尼斯,니스', 43.70313, 7.26608, 'P', 'PPLA2', 'FR', None, '93', '06', '062', '06088', 342669, 25, 18, 'Europe/Paris', datetime.date(2023, 2, 13), 'data/csv/allCountries.txt', 6634025, 2990440, 'iata', 'NCE', None, None, None, None, 'data/csv/alternateNames.txt')\n",
      "(6299418, \"Nice Côte d'Azur International Airport\", \"Nice Cote d'Azur International Airport\", \"Aehroport Nicca Lazurnyj Bereg,Aeroport de Nice Cote d'Azur,Aéroport de Nice Côte d'Azur,Flughafen Nizza,LFMN,NCE,Nice Airport,Nice Cote d'Azur International Airport,Nice Côte d'Azur International Airport,Nice flygplats,Niza Aeropuerto,frwdgah nys kwt dazwr,koto・dajuru kong gang,mtar nys alryfyra alfrnsy,ni si lan se hai an ji chang,niseu koteudajwileu gonghang,Аэропорт Ницца Лазурный Берег,فرودگاه نیس کوت دازور,مطار نيس الريفيرا الفرنسي,コート・ダジュール空港,尼斯蓝色海岸机场,니스 코트다쥐르 공항\", 43.66272, 7.20787, 'S', 'AIRP', 'FR', None, '93', '06', '062', '06088', 0, 3, 5, 'Europe/Paris', datetime.date(2018, 12, 5), 'data/csv/allCountries.txt', 1888981, 6299418, 'iata', 'NCE', None, None, None, None, 'data/csv/alternateNames.txt')\n"
     ]
    }
   ],
   "source": [
    "nce_recs = getNCErows()\n",
    "print(\"List of records featuring NCE as the IATA code:\")\n",
    "for nce_rec in nce_recs:\n",
    "    print(nce_rec)"
   ]
  },
  {
   "cell_type": "code",
   "execution_count": 22,
   "id": "ec47a11a-e2ec-41bd-9788-8d17b182ca46",
   "metadata": {},
   "outputs": [
    {
     "name": "stdout",
     "output_type": "stream",
     "text": [
      "List of records featuring LIL as the IATA code:\n",
      "(2998324, 'Lille', 'Lille', \"Insula,LIL,Lil,Lil',Lila,Lile,Lilis,Lill,Lill',Lilla,Lille,Lilo,Rijsel,Risel,Rysel,li er,lil,lil.,lila,lili,lly,lyl,riru,Λιλ,Лил,Лилль,Лілль,Ліль,Լիլ,ליל,للی,ليل,لیل,लील,ਲੀਲ,லீல்,ลีล,ლილი,リール,里尔,里爾,릴\", 50.63297, 3.05858, 'P', 'PPLA', 'FR', None, '32', '59', '595', '59350', 234475, None, 27, 'Europe/Paris', datetime.date(2022, 8, 14), 'data/csv/allCountries.txt', 7486646, 2998324, 'iata', 'LIL', None, None, None, None, 'data/csv/alternateNames.txt')\n",
      "(6299448, 'Lille Airport', 'Lille Airport', \"Aeroport Lill',Aeroport de Lille-Lesquin,Aeropuerto de Lille-Lesquin,Aéroport de Lille-Lesquin,Flughafen Lille,LFQQ,LIL,Lille - Lesquin Uluslararasi Havalimani,Lille - Lesquin Uluslararası Havalimanı,Lille Airport,Lille-Lesquin Airport,Luchthaven Lille-Lesquin,frwdgah lyl,li er ji chang,mtar lyl,riru kong gang,Аеропорт Лілль,فرودگاه لیل,مطار ليل,リール空港,里爾機場\", 50.57037, 3.10643, 'S', 'AIRP', 'FR', None, '32', '59', '595', '59256', 0, 47, 42, 'Europe/Paris', datetime.date(2023, 1, 5), 'data/csv/allCountries.txt', 1889005, 6299448, 'iata', 'LIL', None, None, None, None, 'data/csv/alternateNames.txt')\n",
      "(6454414, 'Lille', 'Lille', \"59350,Gorad Lil',Insula,LIL,Lil,Lila,Lilis,Lill,Lill',Lilla,Lille,Rijsel,Rysel,li er,lil,lila,lili,lly,lyl,riru,Λιλ,Горад Ліль,Лил,Лилль,Лілль,ליל,للی,ليل,لیل,लील,லீல்,ลีล,ლილი,リール,里尔,릴\", 50.63194, 3.0575, 'A', 'ADM4', 'FR', None, '32', '59', '595', '59350', 232440, None, 27, 'Europe/Paris', datetime.date(2022, 4, 11), 'data/csv/allCountries.txt', 17328554, 6454414, 'iata', 'LIL', None, None, None, None, 'data/csv/alternateNames.txt')\n"
     ]
    }
   ],
   "source": [
    "lil_recs = getLILrows()\n",
    "print(\"List of records featuring LIL as the IATA code:\")\n",
    "for lil_rec in lil_recs:\n",
    "    print(lil_rec)"
   ]
  },
  {
   "cell_type": "markdown",
   "id": "5ef7e480-4157-4adc-a80b-276547f0df07",
   "metadata": {},
   "source": [
    "Geonames POR (points of reference):\n",
    "* Nice airport: https://www.geonames.org/6299418\n",
    "* Lille airport: https://www.geonames.org/6299448"
   ]
  },
  {
   "cell_type": "code",
   "execution_count": null,
   "id": "129f3c0b-6c67-4f8c-95ac-07df6719f907",
   "metadata": {},
   "outputs": [],
   "source": []
  }
 ],
 "metadata": {
  "kernelspec": {
   "display_name": "Python 3 (ipykernel)",
   "language": "python",
   "name": "python3"
  },
  "language_info": {
   "codemirror_mode": {
    "name": "ipython",
    "version": 3
   },
   "file_extension": ".py",
   "mimetype": "text/x-python",
   "name": "python",
   "nbconvert_exporter": "python",
   "pygments_lexer": "ipython3",
   "version": "3.11.4"
  }
 },
 "nbformat": 4,
 "nbformat_minor": 5
}
