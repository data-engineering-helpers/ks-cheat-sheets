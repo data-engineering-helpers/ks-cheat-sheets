{
 "cells": [
  {
   "cell_type": "code",
   "execution_count": 12,
   "id": "7972647e-c1fa-4645-a798-6caaaeaf2d66",
   "metadata": {},
   "outputs": [],
   "source": [
    "import duckdb\n",
    "import csv\n",
    "\n",
    "conn = duckdb.connect()\n",
    "conn = duckdb.connect(database='../db.duckdb', read_only=False)"
   ]
  },
  {
   "cell_type": "code",
   "execution_count": 20,
   "id": "8f688744-7f43-4241-b370-38ead8d7aa65",
   "metadata": {},
   "outputs": [],
   "source": [
    "# Data dir\n",
    "geoname_base_dir: str = \"../data\"\n",
    "geoname_csv_dir: str = f\"{geoname_base_dir}/csv\"\n",
    "geoname_pqt_dir: str = f\"{geoname_base_dir}/parquet\"\n"
   ]
  },
  {
   "cell_type": "code",
   "execution_count": 26,
   "id": "e8a8b853-90ed-4076-b57d-8842c9953196",
   "metadata": {},
   "outputs": [
    {
     "name": "stdout",
     "output_type": "stream",
     "text": [
      "[[PosixPath('../data/../data/csv/.gitkeep'), PosixPath('../data/../data/csv/allCountries.txt'), PosixPath('../data/../data/csv/alternateNames.txt')], [PosixPath('../data/../data/parquet/.gitkeep'), PosixPath('../data/../data/parquet/geonames.parquet'), PosixPath('../data/../data/parquet/alternateNames.parquet'), PosixPath('../data/../data/parquet/allCountries.parquet')]]\n"
     ]
    }
   ],
   "source": [
    "from pathlib import Path\n",
    "\n",
    "def searching_all_files(directory: Path):   \n",
    "    file_list = [] # A list for storing files existing in directories\n",
    "\n",
    "    for x in directory.iterdir():\n",
    "        if x.is_file():\n",
    "\n",
    "           file_list.append(x)\n",
    "        else:\n",
    "\n",
    "           file_list.append(searching_all_files(directory/x))\n",
    "\n",
    "    return file_list\n",
    "\n",
    "\n",
    "print(searching_all_files(Path(geoname_base_dir)))\n"
   ]
  },
  {
   "cell_type": "code",
   "execution_count": 27,
   "id": "4e601b36-9970-40ca-8233-e54dec5cb973",
   "metadata": {},
   "outputs": [],
   "source": [
    "# allCountries\n",
    "geoname_allctry_fn: str = \"allCountries\"\n",
    "geoname_allctry_csv: str = f\"{geoname_csv_dir}/{geoname_allctry_fn}.txt\"\n",
    "geoname_allctry_pqt: str = f\"{geoname_pqt_dir}/{geoname_allctry_fn}.parquet\"\n",
    "\n",
    "# Alternate names\n",
    "geoname_altname_fn: str = \"alternateNames\"\n",
    "geoname_altname_csv: str = f\"{geoname_csv_dir}/{geoname_altname_fn}.txt\"\n",
    "geoname_altname_pqt: str = f\"{geoname_pqt_dir}/{geoname_altname_fn}.parquet\"\n",
    "\n",
    "#\n",
    "geoame_nce_query: str = \"select * from geonames where isoLanguage='iata' and alternateName='NCE'\"\n",
    "\n",
    "def countRows():\n",
    "    \"\"\"\n",
    "    Check that everything goes right\n",
    "    \"\"\"\n",
    "    count_query: str = \"\"\"\n",
    "    select count(*)/1e6 as nb from allcountries\n",
    "    union all\n",
    "    select count(*)/1e6 as nb from altnames\n",
    "    union all\n",
    "    select count(*)/1e6 as nb from geonames\n",
    "    \"\"\"\n",
    "\n",
    "    nb_list = conn.execute(count_query).fetchall()\n",
    "    return nb_list\n",
    "\n",
    "def getNCErows():\n",
    "    \"\"\"\n",
    "    Retrieve all the records featuring NCE as the IATA code\n",
    "    \"\"\"\n",
    "    nce_recs = conn.execute(geoame_nce_query).fetchall()\n",
    "    return nce_recs"
   ]
  },
  {
   "cell_type": "code",
   "execution_count": 28,
   "id": "95a5e25d-aa64-49c0-82f4-6d157de4743c",
   "metadata": {},
   "outputs": [
    {
     "ename": "IOException",
     "evalue": "IO Error: No files found that match the pattern \"data/parquet/allCountries.parquet\"",
     "output_type": "error",
     "traceback": [
      "\u001b[0;31m---------------------------------------------------------------------------\u001b[0m",
      "\u001b[0;31mIOException\u001b[0m                               Traceback (most recent call last)",
      "Cell \u001b[0;32mIn[28], line 1\u001b[0m\n\u001b[0;32m----> 1\u001b[0m nb_list \u001b[38;5;241m=\u001b[39m \u001b[43mcountRows\u001b[49m\u001b[43m(\u001b[49m\u001b[43m)\u001b[49m\n\u001b[1;32m      2\u001b[0m \u001b[38;5;28mprint\u001b[39m(\u001b[38;5;124mf\u001b[39m\u001b[38;5;124m\"\u001b[39m\u001b[38;5;124mNumber of rows: \u001b[39m\u001b[38;5;132;01m{\u001b[39;00mnb_list\u001b[38;5;132;01m}\u001b[39;00m\u001b[38;5;124m\"\u001b[39m)\n",
      "Cell \u001b[0;32mIn[27], line 26\u001b[0m, in \u001b[0;36mcountRows\u001b[0;34m()\u001b[0m\n\u001b[1;32m     15\u001b[0m \u001b[38;5;250m\u001b[39m\u001b[38;5;124;03m\"\"\"\u001b[39;00m\n\u001b[1;32m     16\u001b[0m \u001b[38;5;124;03mCheck that everything goes right\u001b[39;00m\n\u001b[1;32m     17\u001b[0m \u001b[38;5;124;03m\"\"\"\u001b[39;00m\n\u001b[1;32m     18\u001b[0m count_query: \u001b[38;5;28mstr\u001b[39m \u001b[38;5;241m=\u001b[39m \u001b[38;5;124m\"\"\"\u001b[39m\n\u001b[1;32m     19\u001b[0m \u001b[38;5;124mselect count(*)/1e6 as nb from allcountries\u001b[39m\n\u001b[1;32m     20\u001b[0m \u001b[38;5;124munion all\u001b[39m\n\u001b[0;32m   (...)\u001b[0m\n\u001b[1;32m     23\u001b[0m \u001b[38;5;124mselect count(*)/1e6 as nb from geonames\u001b[39m\n\u001b[1;32m     24\u001b[0m \u001b[38;5;124m\u001b[39m\u001b[38;5;124m\"\"\"\u001b[39m\n\u001b[0;32m---> 26\u001b[0m nb_list \u001b[38;5;241m=\u001b[39m \u001b[43mconn\u001b[49m\u001b[38;5;241;43m.\u001b[39;49m\u001b[43mexecute\u001b[49m\u001b[43m(\u001b[49m\u001b[43mcount_query\u001b[49m\u001b[43m)\u001b[49m\u001b[38;5;241m.\u001b[39mfetchall()\n\u001b[1;32m     27\u001b[0m \u001b[38;5;28;01mreturn\u001b[39;00m nb_list\n",
      "\u001b[0;31mIOException\u001b[0m: IO Error: No files found that match the pattern \"data/parquet/allCountries.parquet\""
     ]
    }
   ],
   "source": [
    "nb_list = countRows()\n",
    "print(f\"Number of rows: {nb_list}\")\n"
   ]
  },
  {
   "cell_type": "code",
   "execution_count": 17,
   "id": "d3a84389-d497-482c-a5c4-a469a9f350b7",
   "metadata": {},
   "outputs": [
    {
     "ename": "IOException",
     "evalue": "IO Error: No files found that match the pattern \"data/parquet/allCountries.parquet\"",
     "output_type": "error",
     "traceback": [
      "\u001b[0;31m---------------------------------------------------------------------------\u001b[0m",
      "\u001b[0;31mIOException\u001b[0m                               Traceback (most recent call last)",
      "Cell \u001b[0;32mIn[17], line 1\u001b[0m\n\u001b[0;32m----> 1\u001b[0m nce_recs \u001b[38;5;241m=\u001b[39m \u001b[43mgetNCErows\u001b[49m\u001b[43m(\u001b[49m\u001b[43m)\u001b[49m\n\u001b[1;32m      2\u001b[0m \u001b[38;5;28mprint\u001b[39m(\u001b[38;5;124m\"\u001b[39m\u001b[38;5;124mList of records featuring NCE as the IATA code:\u001b[39m\u001b[38;5;124m\"\u001b[39m)\n\u001b[1;32m      3\u001b[0m \u001b[38;5;28;01mfor\u001b[39;00m nce_rec \u001b[38;5;129;01min\u001b[39;00m nce_recs:\n",
      "Cell \u001b[0;32mIn[15], line 37\u001b[0m, in \u001b[0;36mgetNCErows\u001b[0;34m()\u001b[0m\n\u001b[1;32m     33\u001b[0m \u001b[38;5;28;01mdef\u001b[39;00m \u001b[38;5;21mgetNCErows\u001b[39m():\n\u001b[1;32m     34\u001b[0m \u001b[38;5;250m    \u001b[39m\u001b[38;5;124;03m\"\"\"\u001b[39;00m\n\u001b[1;32m     35\u001b[0m \u001b[38;5;124;03m    Retrieve all the records featuring NCE as the IATA code\u001b[39;00m\n\u001b[1;32m     36\u001b[0m \u001b[38;5;124;03m    \"\"\"\u001b[39;00m\n\u001b[0;32m---> 37\u001b[0m     nce_recs \u001b[38;5;241m=\u001b[39m \u001b[43mconn\u001b[49m\u001b[38;5;241;43m.\u001b[39;49m\u001b[43mexecute\u001b[49m\u001b[43m(\u001b[49m\u001b[43mgeoame_nce_query\u001b[49m\u001b[43m)\u001b[49m\u001b[38;5;241m.\u001b[39mfetchall()\n\u001b[1;32m     38\u001b[0m     \u001b[38;5;28;01mreturn\u001b[39;00m nce_recs\n",
      "\u001b[0;31mIOException\u001b[0m: IO Error: No files found that match the pattern \"data/parquet/allCountries.parquet\""
     ]
    }
   ],
   "source": [
    "nce_recs = getNCErows()\n",
    "print(\"List of records featuring NCE as the IATA code:\")\n",
    "for nce_rec in nce_recs:\n",
    "    print(nce_rec)"
   ]
  },
  {
   "cell_type": "code",
   "execution_count": null,
   "id": "ec47a11a-e2ec-41bd-9788-8d17b182ca46",
   "metadata": {},
   "outputs": [],
   "source": []
  }
 ],
 "metadata": {
  "kernelspec": {
   "display_name": "Python 3 (ipykernel)",
   "language": "python",
   "name": "python3"
  },
  "language_info": {
   "codemirror_mode": {
    "name": "ipython",
    "version": 3
   },
   "file_extension": ".py",
   "mimetype": "text/x-python",
   "name": "python",
   "nbconvert_exporter": "python",
   "pygments_lexer": "ipython3",
   "version": "3.11.4"
  }
 },
 "nbformat": 4,
 "nbformat_minor": 5
}
