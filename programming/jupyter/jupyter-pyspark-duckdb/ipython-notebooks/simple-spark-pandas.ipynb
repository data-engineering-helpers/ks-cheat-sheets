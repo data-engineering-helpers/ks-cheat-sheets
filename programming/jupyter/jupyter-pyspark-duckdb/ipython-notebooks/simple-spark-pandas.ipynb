{
 "cells": [
  {
   "cell_type": "markdown",
   "id": "9fe1e123-8ef1-4c85-8adf-6854e001c456",
   "metadata": {},
   "source": [
    "Cheat Sheet - Jupyter with PySpark\n",
    "==================================\n",
    "\n",
    "* Homepage on GitHub:\n",
    "  https://github.com/data-engineering-helpers/ks-cheat-sheets/blob/main/jupyter/jupyter-pyspark-duckdb/\n",
    "\n",
    "* This iPython/Jupyter notebook:\n",
    "  https://github.com/data-engineering-helpers/ks-cheat-sheets/blob/main/jupyter/jupyter-pyspark-duckdb/ipython-notebooks/simple-spark-pandas.ipynb"
   ]
  },
  {
   "cell_type": "code",
   "execution_count": 1,
   "id": "49a715df-0a97-429b-9316-5050715d0091",
   "metadata": {},
   "outputs": [],
   "source": [
    "user_data_fp: str = \"../data/parquet/user-details.parquet\""
   ]
  },
  {
   "cell_type": "code",
   "execution_count": 2,
   "id": "49996c54-e22f-401a-aa1b-08bd4e97d312",
   "metadata": {},
   "outputs": [],
   "source": [
    "# Import Libraries\n",
    "from pyspark.sql.types import StructType, StructField, FloatType, BooleanType\n",
    "from pyspark.sql.types import DoubleType, IntegerType, StringType\n",
    "from pyspark.sql import SparkSession\n",
    "\n",
    "# Setup the Configuration\n",
    "#conf = pyspark.SparkConf()\n",
    "\n",
    "# Retrieve the Spark session\n",
    "spark = SparkSession.builder.getOrCreate()"
   ]
  },
  {
   "cell_type": "code",
   "execution_count": 3,
   "id": "e9adcf1a-d584-4c92-bf16-81e79b646040",
   "metadata": {},
   "outputs": [],
   "source": [
    "# Setup the Schema\n",
    "schema = StructType([\n",
    "StructField(\"User ID\", IntegerType(),True),\n",
    "StructField(\"Username\", StringType(),True),\n",
    "StructField(\"Browser\", StringType(),True),\n",
    "StructField(\"OS\", StringType(),True),\n",
    "])\n",
    "\n",
    "# Add Data\n",
    "data = ([(1580, \"Barry\", \"FireFox\", \"Windows\" ),\n",
    "(5820, \"Sam\", \"MS Edge\", \"Linux\"),\n",
    "(2340, \"Harry\", \"Vivaldi\", \"Windows\"),\n",
    "(7860, \"Albert\", \"Chrome\", \"Windows\"),\n",
    "(1123, \"May\", \"Safari\", \"macOS\")\n",
    "])\n",
    "\n",
    "# Setup the Data Frame\n",
    "user_data_df = spark.createDataFrame(data,schema=schema)"
   ]
  },
  {
   "cell_type": "code",
   "execution_count": 4,
   "id": "d35cb9a9-537d-43c7-a89d-10bf733eaea5",
   "metadata": {},
   "outputs": [
    {
     "name": "stderr",
     "output_type": "stream",
     "text": [
      "                                                                                \r"
     ]
    },
    {
     "data": {
      "text/html": [
       "<div>\n",
       "<style scoped>\n",
       "    .dataframe tbody tr th:only-of-type {\n",
       "        vertical-align: middle;\n",
       "    }\n",
       "\n",
       "    .dataframe tbody tr th {\n",
       "        vertical-align: top;\n",
       "    }\n",
       "\n",
       "    .dataframe thead th {\n",
       "        text-align: right;\n",
       "    }\n",
       "</style>\n",
       "<table border=\"1\" class=\"dataframe\">\n",
       "  <thead>\n",
       "    <tr style=\"text-align: right;\">\n",
       "      <th></th>\n",
       "      <th>User ID</th>\n",
       "      <th>Username</th>\n",
       "      <th>Browser</th>\n",
       "      <th>OS</th>\n",
       "    </tr>\n",
       "  </thead>\n",
       "  <tbody>\n",
       "    <tr>\n",
       "      <th>0</th>\n",
       "      <td>1580</td>\n",
       "      <td>Barry</td>\n",
       "      <td>FireFox</td>\n",
       "      <td>Windows</td>\n",
       "    </tr>\n",
       "    <tr>\n",
       "      <th>1</th>\n",
       "      <td>5820</td>\n",
       "      <td>Sam</td>\n",
       "      <td>MS Edge</td>\n",
       "      <td>Linux</td>\n",
       "    </tr>\n",
       "    <tr>\n",
       "      <th>2</th>\n",
       "      <td>2340</td>\n",
       "      <td>Harry</td>\n",
       "      <td>Vivaldi</td>\n",
       "      <td>Windows</td>\n",
       "    </tr>\n",
       "    <tr>\n",
       "      <th>3</th>\n",
       "      <td>7860</td>\n",
       "      <td>Albert</td>\n",
       "      <td>Chrome</td>\n",
       "      <td>Windows</td>\n",
       "    </tr>\n",
       "    <tr>\n",
       "      <th>4</th>\n",
       "      <td>1123</td>\n",
       "      <td>May</td>\n",
       "      <td>Safari</td>\n",
       "      <td>macOS</td>\n",
       "    </tr>\n",
       "  </tbody>\n",
       "</table>\n",
       "</div>"
      ],
      "text/plain": [
       "   User ID Username  Browser       OS\n",
       "0     1580    Barry  FireFox  Windows\n",
       "1     5820      Sam  MS Edge    Linux\n",
       "2     2340    Harry  Vivaldi  Windows\n",
       "3     7860   Albert   Chrome  Windows\n",
       "4     1123      May   Safari    macOS"
      ]
     },
     "execution_count": 4,
     "metadata": {},
     "output_type": "execute_result"
    }
   ],
   "source": [
    "user_data_pdf = user_data_df.toPandas()\n",
    "user_data_pdf"
   ]
  },
  {
   "cell_type": "code",
   "execution_count": 5,
   "id": "5bedd4cf-070c-43c4-94e5-29421994a333",
   "metadata": {},
   "outputs": [],
   "source": [
    "user_data_pdf.to_parquet(user_data_fp)"
   ]
  },
  {
   "cell_type": "code",
   "execution_count": 6,
   "id": "9f094307-76c0-4cca-99ae-b763e69a65b4",
   "metadata": {},
   "outputs": [
    {
     "name": "stdout",
     "output_type": "stream",
     "text": [
      "total 8\n",
      "-rw-r--r--  1 DENIS  1000   3.4K Aug  2 15:03 user-details.parquet\n"
     ]
    }
   ],
   "source": [
    "%%sh\n",
    "ls -lFh ../data/parquet/"
   ]
  },
  {
   "cell_type": "code",
   "execution_count": null,
   "id": "e8ae9dd5-109d-4e02-b274-ef2270b9d7aa",
   "metadata": {},
   "outputs": [],
   "source": []
  }
 ],
 "metadata": {
  "kernelspec": {
   "display_name": "Python 3 (ipykernel)",
   "language": "python",
   "name": "python3"
  },
  "language_info": {
   "codemirror_mode": {
    "name": "ipython",
    "version": 3
   },
   "file_extension": ".py",
   "mimetype": "text/x-python",
   "name": "python",
   "nbconvert_exporter": "python",
   "pygments_lexer": "ipython3",
   "version": "3.11.4"
  }
 },
 "nbformat": 4,
 "nbformat_minor": 5
}
