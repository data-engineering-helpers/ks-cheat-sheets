{
 "cells": [
  {
   "cell_type": "markdown",
   "id": "142fb28d-63ea-4f78-9428-7d0a61845540",
   "metadata": {},
   "source": [
    "Simple DuckDB tests\n",
    "===================\n",
    "\n",
    "* References:\n",
    "  + DuckDB in Jupyter notebooks: https://duckdb.org/docs/guides/python/jupyter.html\n",
    "  + Cheat sheet: https://github.com/data-engineering-helpers/ks-cheat-sheets/tree/main/programming/jupyter/jupyter-pyspark-duckdb\n"
   ]
  },
  {
   "cell_type": "code",
   "execution_count": 1,
   "id": "c245bd5f-4e86-4a72-be0d-c1f194e01015",
   "metadata": {},
   "outputs": [],
   "source": [
    "import duckdb\n",
    "import pandas as pd\n",
    "# Install dependencies:\n",
    "# python -mpip install duckdb jupysql pandas matplotlib duckdb-engine\n",
    "# No need to import duckdb_engine\n",
    "#  jupysql will auto-detect the driver needed based on the connection string!\n",
    "\n",
    "# Import jupysql Jupyter extension to create SQL cells\n",
    "%load_ext sql\n",
    "conn = duckdb.connect()\n",
    "%sql conn --alias duckdb"
   ]
  },
  {
   "cell_type": "code",
   "execution_count": 2,
   "id": "a632e6ed-a976-4e82-98fd-d03208d0161e",
   "metadata": {},
   "outputs": [],
   "source": [
    "%config SqlMagic.autopandas = True\n",
    "%config SqlMagic.feedback = False\n",
    "%config SqlMagic.displaycon = False"
   ]
  },
  {
   "cell_type": "code",
   "execution_count": 3,
   "id": "7c96d7a5-8ccb-4278-98e9-969eab03d8e6",
   "metadata": {},
   "outputs": [],
   "source": [
    "# %sql duckdb:///:default:\n",
    "%sql duckdb:///:memory:\n",
    "# %sql duckdb:///../db.duckdb"
   ]
  },
  {
   "cell_type": "code",
   "execution_count": 4,
   "id": "48831beb-0ec8-42ad-8ead-282364e22696",
   "metadata": {},
   "outputs": [
    {
     "data": {
      "text/html": [
       "<div>\n",
       "<style scoped>\n",
       "    .dataframe tbody tr th:only-of-type {\n",
       "        vertical-align: middle;\n",
       "    }\n",
       "\n",
       "    .dataframe tbody tr th {\n",
       "        vertical-align: top;\n",
       "    }\n",
       "\n",
       "    .dataframe thead th {\n",
       "        text-align: right;\n",
       "    }\n",
       "</style>\n",
       "<table border=\"1\" class=\"dataframe\">\n",
       "  <thead>\n",
       "    <tr style=\"text-align: right;\">\n",
       "      <th></th>\n",
       "      <th>User ID</th>\n",
       "      <th>Username</th>\n",
       "      <th>Browser</th>\n",
       "      <th>OS</th>\n",
       "    </tr>\n",
       "  </thead>\n",
       "  <tbody>\n",
       "    <tr>\n",
       "      <th>0</th>\n",
       "      <td>1580</td>\n",
       "      <td>Barry</td>\n",
       "      <td>FireFox</td>\n",
       "      <td>Windows</td>\n",
       "    </tr>\n",
       "    <tr>\n",
       "      <th>1</th>\n",
       "      <td>5820</td>\n",
       "      <td>Sam</td>\n",
       "      <td>MS Edge</td>\n",
       "      <td>Linux</td>\n",
       "    </tr>\n",
       "    <tr>\n",
       "      <th>2</th>\n",
       "      <td>2340</td>\n",
       "      <td>Harry</td>\n",
       "      <td>Vivaldi</td>\n",
       "      <td>Windows</td>\n",
       "    </tr>\n",
       "    <tr>\n",
       "      <th>3</th>\n",
       "      <td>7860</td>\n",
       "      <td>Albert</td>\n",
       "      <td>Chrome</td>\n",
       "      <td>Windows</td>\n",
       "    </tr>\n",
       "    <tr>\n",
       "      <th>4</th>\n",
       "      <td>1123</td>\n",
       "      <td>May</td>\n",
       "      <td>Safari</td>\n",
       "      <td>macOS</td>\n",
       "    </tr>\n",
       "  </tbody>\n",
       "</table>\n",
       "</div>"
      ],
      "text/plain": [
       "   User ID Username  Browser       OS\n",
       "0     1580    Barry  FireFox  Windows\n",
       "1     5820      Sam  MS Edge    Linux\n",
       "2     2340    Harry  Vivaldi  Windows\n",
       "3     7860   Albert   Chrome  Windows\n",
       "4     1123      May   Safari    macOS"
      ]
     },
     "execution_count": 4,
     "metadata": {},
     "output_type": "execute_result"
    }
   ],
   "source": [
    "%sql select * from '../data/parquet/user-details.parquet'"
   ]
  },
  {
   "cell_type": "code",
   "execution_count": 5,
   "id": "6818d514-c0b3-4538-860e-115a8e98481c",
   "metadata": {},
   "outputs": [],
   "source": [
    "%%sql\n",
    "\n",
    "user_data << select * from '../data/parquet/user-details.parquet'"
   ]
  },
  {
   "cell_type": "code",
   "execution_count": 6,
   "id": "cc09b68d-1217-4672-b1ac-543c5950f28e",
   "metadata": {},
   "outputs": [
    {
     "data": {
      "text/html": [
       "<div>\n",
       "<style scoped>\n",
       "    .dataframe tbody tr th:only-of-type {\n",
       "        vertical-align: middle;\n",
       "    }\n",
       "\n",
       "    .dataframe tbody tr th {\n",
       "        vertical-align: top;\n",
       "    }\n",
       "\n",
       "    .dataframe thead th {\n",
       "        text-align: right;\n",
       "    }\n",
       "</style>\n",
       "<table border=\"1\" class=\"dataframe\">\n",
       "  <thead>\n",
       "    <tr style=\"text-align: right;\">\n",
       "      <th></th>\n",
       "      <th>User ID</th>\n",
       "      <th>Username</th>\n",
       "      <th>Browser</th>\n",
       "      <th>OS</th>\n",
       "    </tr>\n",
       "  </thead>\n",
       "  <tbody>\n",
       "    <tr>\n",
       "      <th>0</th>\n",
       "      <td>1580</td>\n",
       "      <td>Barry</td>\n",
       "      <td>FireFox</td>\n",
       "      <td>Windows</td>\n",
       "    </tr>\n",
       "    <tr>\n",
       "      <th>1</th>\n",
       "      <td>5820</td>\n",
       "      <td>Sam</td>\n",
       "      <td>MS Edge</td>\n",
       "      <td>Linux</td>\n",
       "    </tr>\n",
       "    <tr>\n",
       "      <th>2</th>\n",
       "      <td>2340</td>\n",
       "      <td>Harry</td>\n",
       "      <td>Vivaldi</td>\n",
       "      <td>Windows</td>\n",
       "    </tr>\n",
       "    <tr>\n",
       "      <th>3</th>\n",
       "      <td>7860</td>\n",
       "      <td>Albert</td>\n",
       "      <td>Chrome</td>\n",
       "      <td>Windows</td>\n",
       "    </tr>\n",
       "    <tr>\n",
       "      <th>4</th>\n",
       "      <td>1123</td>\n",
       "      <td>May</td>\n",
       "      <td>Safari</td>\n",
       "      <td>macOS</td>\n",
       "    </tr>\n",
       "  </tbody>\n",
       "</table>\n",
       "</div>"
      ],
      "text/plain": [
       "   User ID Username  Browser       OS\n",
       "0     1580    Barry  FireFox  Windows\n",
       "1     5820      Sam  MS Edge    Linux\n",
       "2     2340    Harry  Vivaldi  Windows\n",
       "3     7860   Albert   Chrome  Windows\n",
       "4     1123      May   Safari    macOS"
      ]
     },
     "execution_count": 6,
     "metadata": {},
     "output_type": "execute_result"
    }
   ],
   "source": [
    "user_data"
   ]
  },
  {
   "cell_type": "code",
   "execution_count": 7,
   "id": "ac0d5c94-438d-45b1-800b-62e47946d435",
   "metadata": {},
   "outputs": [],
   "source": [
    "conn.close()"
   ]
  },
  {
   "cell_type": "code",
   "execution_count": null,
   "id": "aadf1e18-5c11-4a22-afe2-a624a758b1c5",
   "metadata": {},
   "outputs": [],
   "source": []
  }
 ],
 "metadata": {
  "kernelspec": {
   "display_name": "Python 3 (ipykernel)",
   "language": "python",
   "name": "python3"
  },
  "language_info": {
   "codemirror_mode": {
    "name": "ipython",
    "version": 3
   },
   "file_extension": ".py",
   "mimetype": "text/x-python",
   "name": "python",
   "nbconvert_exporter": "python",
   "pygments_lexer": "ipython3",
   "version": "3.11.11"
  }
 },
 "nbformat": 4,
 "nbformat_minor": 5
}
