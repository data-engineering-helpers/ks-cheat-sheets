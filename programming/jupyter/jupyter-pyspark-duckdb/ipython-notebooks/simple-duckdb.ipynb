{
 "cells": [
  {
   "cell_type": "markdown",
   "id": "91e77ea5-e8b1-45a1-aa7c-f6f039040be8",
   "metadata": {},
   "source": [
    "Simple DuckDB test\n",
    "==================\n"
   ]
  },
  {
   "cell_type": "code",
   "execution_count": 17,
   "id": "23d35f8d-830b-4e0c-8eb0-657905da501b",
   "metadata": {},
   "outputs": [
    {
     "name": "stdout",
     "output_type": "stream",
     "text": [
      "total 8\n",
      "-rw-r--r--  1 mac-DARNAU24  staff   3.4K Aug  3  2023 user-details.parquet\n"
     ]
    }
   ],
   "source": [
    "%%sh\n",
    "ls -lFh ../data/parquet/"
   ]
  },
  {
   "cell_type": "code",
   "execution_count": 18,
   "id": "a06bc998-38c8-4704-a1ca-1302938fc656",
   "metadata": {},
   "outputs": [],
   "source": [
    "user_data_fp: str = \"../data/parquet/user-details.parquet\""
   ]
  },
  {
   "cell_type": "code",
   "execution_count": 19,
   "id": "c25a3f1b-f89f-4971-9ff0-d9e69b4f159e",
   "metadata": {},
   "outputs": [],
   "source": [
    "import duckdb\n",
    "import csv\n",
    "\n",
    "conn = duckdb.connect()\n",
    "# conn = duckdb.connect(database='../db.duckdb') #, read_only=True)\n",
    "conn = duckdb.connect(database=':memory:')"
   ]
  },
  {
   "cell_type": "code",
   "execution_count": 20,
   "id": "28826007-95bb-4ad9-a865-792dd0338834",
   "metadata": {},
   "outputs": [
    {
     "data": {
      "text/html": [
       "<div>\n",
       "<style scoped>\n",
       "    .dataframe tbody tr th:only-of-type {\n",
       "        vertical-align: middle;\n",
       "    }\n",
       "\n",
       "    .dataframe tbody tr th {\n",
       "        vertical-align: top;\n",
       "    }\n",
       "\n",
       "    .dataframe thead th {\n",
       "        text-align: right;\n",
       "    }\n",
       "</style>\n",
       "<table border=\"1\" class=\"dataframe\">\n",
       "  <thead>\n",
       "    <tr style=\"text-align: right;\">\n",
       "      <th></th>\n",
       "      <th>User ID</th>\n",
       "      <th>Username</th>\n",
       "      <th>Browser</th>\n",
       "      <th>OS</th>\n",
       "    </tr>\n",
       "  </thead>\n",
       "  <tbody>\n",
       "    <tr>\n",
       "      <th>0</th>\n",
       "      <td>1580</td>\n",
       "      <td>Barry</td>\n",
       "      <td>FireFox</td>\n",
       "      <td>Windows</td>\n",
       "    </tr>\n",
       "    <tr>\n",
       "      <th>1</th>\n",
       "      <td>5820</td>\n",
       "      <td>Sam</td>\n",
       "      <td>MS Edge</td>\n",
       "      <td>Linux</td>\n",
       "    </tr>\n",
       "    <tr>\n",
       "      <th>2</th>\n",
       "      <td>2340</td>\n",
       "      <td>Harry</td>\n",
       "      <td>Vivaldi</td>\n",
       "      <td>Windows</td>\n",
       "    </tr>\n",
       "    <tr>\n",
       "      <th>3</th>\n",
       "      <td>7860</td>\n",
       "      <td>Albert</td>\n",
       "      <td>Chrome</td>\n",
       "      <td>Windows</td>\n",
       "    </tr>\n",
       "    <tr>\n",
       "      <th>4</th>\n",
       "      <td>1123</td>\n",
       "      <td>May</td>\n",
       "      <td>Safari</td>\n",
       "      <td>macOS</td>\n",
       "    </tr>\n",
       "  </tbody>\n",
       "</table>\n",
       "</div>"
      ],
      "text/plain": [
       "   User ID Username  Browser       OS\n",
       "0     1580    Barry  FireFox  Windows\n",
       "1     5820      Sam  MS Edge    Linux\n",
       "2     2340    Harry  Vivaldi  Windows\n",
       "3     7860   Albert   Chrome  Windows\n",
       "4     1123      May   Safari    macOS"
      ]
     },
     "execution_count": 20,
     "metadata": {},
     "output_type": "execute_result"
    }
   ],
   "source": [
    "user_query: str = f\"select * from '{user_data_fp}'\"\n",
    "#user_data = conn.execute(user_query).fetchall()\n",
    "user_data = conn.sql(user_query).to_df()\n",
    "user_data"
   ]
  },
  {
   "cell_type": "code",
   "execution_count": 21,
   "id": "6a4b1179-126f-478b-aaa3-b22f086fb130",
   "metadata": {},
   "outputs": [],
   "source": [
    "conn.close()"
   ]
  },
  {
   "cell_type": "code",
   "execution_count": null,
   "id": "8a5ce0a4-e745-431c-9070-983a419d3aba",
   "metadata": {},
   "outputs": [],
   "source": []
  }
 ],
 "metadata": {
  "kernelspec": {
   "display_name": "Python 3 (ipykernel)",
   "language": "python",
   "name": "python3"
  },
  "language_info": {
   "codemirror_mode": {
    "name": "ipython",
    "version": 3
   },
   "file_extension": ".py",
   "mimetype": "text/x-python",
   "name": "python",
   "nbconvert_exporter": "python",
   "pygments_lexer": "ipython3",
   "version": "3.11.11"
  }
 },
 "nbformat": 4,
 "nbformat_minor": 5
}
