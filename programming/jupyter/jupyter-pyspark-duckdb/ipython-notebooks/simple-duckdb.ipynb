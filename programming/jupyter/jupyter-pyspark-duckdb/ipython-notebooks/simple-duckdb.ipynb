{
 "cells": [
  {
   "cell_type": "markdown",
   "id": "71e6425d-a8b6-4ef7-8023-bc6553a212eb",
   "metadata": {},
   "source": [
    "Cheat Sheet - Jupyter with DuckDB\n",
    "=================================\n",
    "\n",
    "* Homepage on GitHub:\n",
    "  https://github.com/data-engineering-helpers/ks-cheat-sheets/blob/main/jupyter/jupyter-pyspark-duckdb/\n",
    "\n",
    "* This iPython/Jupyter notebook:\n",
    "  https://github.com/data-engineering-helpers/ks-cheat-sheets/blob/main/jupyter/jupyter-pyspark-duckdb/ipython-notebooks/simple-duckdb.ipynb"
   ]
  },
  {
   "cell_type": "code",
   "execution_count": 1,
   "id": "55e3d011-6739-4a40-a54e-e2df0300601c",
   "metadata": {},
   "outputs": [
    {
     "name": "stdout",
     "output_type": "stream",
     "text": [
      "total 8\n",
      "-rw-r--r--  1 DENIS  1000   3.4K Aug  3 14:13 user-details.parquet\n"
     ]
    }
   ],
   "source": [
    "%%sh\n",
    "ls -lFh ../data/parquet/"
   ]
  },
  {
   "cell_type": "code",
   "execution_count": 2,
   "id": "67bd19e7-9871-4fe8-bd40-d6c54be8d88f",
   "metadata": {},
   "outputs": [],
   "source": [
    "user_data_fp: str = \"../data/parquet/user-details.parquet\""
   ]
  },
  {
   "cell_type": "code",
   "execution_count": 3,
   "id": "013514f2-e78f-4b3b-815d-27ceb68e8e3c",
   "metadata": {},
   "outputs": [],
   "source": [
    "import duckdb\n",
    "import csv\n",
    "\n",
    "conn = duckdb.connect()\n",
    "conn = duckdb.connect(database='../db.duckdb', read_only=False)"
   ]
  },
  {
   "cell_type": "code",
   "execution_count": 4,
   "id": "28ba5120-44d6-4376-b4a4-3a046930f871",
   "metadata": {},
   "outputs": [
    {
     "data": {
      "text/plain": [
       "[(1580, 'Barry', 'FireFox', 'Windows'),\n",
       " (5820, 'Sam', 'MS Edge', 'Linux'),\n",
       " (2340, 'Harry', 'Vivaldi', 'Windows'),\n",
       " (7860, 'Albert', 'Chrome', 'Windows'),\n",
       " (1123, 'May', 'Safari', 'macOS')]"
      ]
     },
     "execution_count": 4,
     "metadata": {},
     "output_type": "execute_result"
    }
   ],
   "source": [
    "user_query: str = f\"select * from '{user_data_fp}'\"\n",
    "user_data = conn.execute(user_query).fetchall()\n",
    "user_data"
   ]
  },
  {
   "cell_type": "code",
   "execution_count": null,
   "id": "ae9441b8-757e-499c-9484-d325bd3c4454",
   "metadata": {},
   "outputs": [],
   "source": []
  }
 ],
 "metadata": {
  "kernelspec": {
   "display_name": "Python 3 (ipykernel)",
   "language": "python",
   "name": "python3"
  },
  "language_info": {
   "codemirror_mode": {
    "name": "ipython",
    "version": 3
   },
   "file_extension": ".py",
   "mimetype": "text/x-python",
   "name": "python",
   "nbconvert_exporter": "python",
   "pygments_lexer": "ipython3",
   "version": "3.11.4"
  }
 },
 "nbformat": 4,
 "nbformat_minor": 5
}
