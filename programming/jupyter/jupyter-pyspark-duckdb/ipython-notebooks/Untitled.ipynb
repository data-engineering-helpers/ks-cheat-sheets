{
 "cells": [
  {
   "cell_type": "markdown",
   "id": "71e6425d-a8b6-4ef7-8023-bc6553a212eb",
   "metadata": {},
   "source": [
    "Cheat Sheet - Jupyter with PySpark and DuckDB\n",
    "=============================================\n",
    "\n",
    "* Homepage on GitHub:\n",
    "  https://github.com/data-engineering-helpers/ks-cheat-sheets/blob/main/jupyter/jupyter-pyspark-duckdb/\n",
    "\n",
    "* This iPython/Jupyter notebook:\n",
    "  https://github.com/data-engineering-helpers/ks-cheat-sheets/blob/main/jupyter/jupyter-pyspark-duckdb/ipython-notebooks/simple-spark-pandas.ipynb"
   ]
  },
  {
   "cell_type": "code",
   "execution_count": null,
   "id": "532a8f03-e0ec-4b3d-8f7b-fda9ef058370",
   "metadata": {},
   "outputs": [],
   "source": []
  }
 ],
 "metadata": {
  "kernelspec": {
   "display_name": "Python 3 (ipykernel)",
   "language": "python",
   "name": "python3"
  },
  "language_info": {
   "codemirror_mode": {
    "name": "ipython",
    "version": 3
   },
   "file_extension": ".py",
   "mimetype": "text/x-python",
   "name": "python",
   "nbconvert_exporter": "python",
   "pygments_lexer": "ipython3",
   "version": "3.11.4"
  }
 },
 "nbformat": 4,
 "nbformat_minor": 5
}
