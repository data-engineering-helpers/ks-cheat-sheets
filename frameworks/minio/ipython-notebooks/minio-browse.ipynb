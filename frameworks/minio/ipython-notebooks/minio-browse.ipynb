{
 "cells": [
  {
   "cell_type": "markdown",
   "id": "238e827d-845d-4a77-a7f0-17dbda6cf63d",
   "metadata": {},
   "source": [
    "Cheat Sheet - Browse files from the Minio data lake with Python\n",
    "==============================================================="
   ]
  },
  {
   "cell_type": "markdown",
   "id": "80ee3ea2-44bb-42b9-8091-43383bd20ddf",
   "metadata": {},
   "source": [
    "# References\n",
    "* Cheat sheet: https://github.com/data-engineering-helpers/ks-cheat-sheets/blob/main/frameworks/minio/\n",
    "  + [This Jupyter notebook on GitHub](https://github.com/data-engineering-helpers/ks-cheat-sheets/blob/main/frameworks/minio/ipython-notebooks/minio-browse.ipynb)\n",
    "  + [A simple Python script](https://github.com/data-engineering-helpers/ks-cheat-sheets/blob/main/frameworks/minio/python/minio-browse.ipynb)\n",
    "* Local Minio data lake: http://localhost:9000\n",
    "  + Bronze bucket in the local Minio data lake: http://localhost:58995/browser/bronze\n",
    "\n",
    "## Minio\n",
    "* Minio home page: https://min.io/\n"
   ]
  },
  {
   "cell_type": "code",
   "execution_count": 1,
   "id": "b540d595-b841-4df4-ae3c-dbb78b1c7a32",
   "metadata": {},
   "outputs": [],
   "source": [
    "import os\n",
    "from cloudpathlib import CloudPath"
   ]
  },
  {
   "cell_type": "code",
   "execution_count": 2,
   "id": "bb2b9727-600f-40ea-9983-a0264ff1afa2",
   "metadata": {},
   "outputs": [
    {
     "name": "stdout",
     "output_type": "stream",
     "text": [
      "s3://bronze/geonames/allCountries.parquet\n",
      "s3://bronze/geonames/alternateNames.parquet\n"
     ]
    }
   ],
   "source": [
    "geo_dir = CloudPath(\"s3://bronze/geonames\")\n",
    "for f in geo_dir.glob(\"**/*.parquet\"):\n",
    "    print(f)"
   ]
  },
  {
   "cell_type": "code",
   "execution_count": null,
   "id": "ea000da4-2201-4543-949b-493ffc6bbb37",
   "metadata": {},
   "outputs": [],
   "source": []
  }
 ],
 "metadata": {
  "kernelspec": {
   "display_name": "Python 3 (ipykernel)",
   "language": "python",
   "name": "python3"
  },
  "language_info": {
   "codemirror_mode": {
    "name": "ipython",
    "version": 3
   },
   "file_extension": ".py",
   "mimetype": "text/x-python",
   "name": "python",
   "nbconvert_exporter": "python",
   "pygments_lexer": "ipython3",
   "version": "3.11.4"
  }
 },
 "nbformat": 4,
 "nbformat_minor": 5
}
