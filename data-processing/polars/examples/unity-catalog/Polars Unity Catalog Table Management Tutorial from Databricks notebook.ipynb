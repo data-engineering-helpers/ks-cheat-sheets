{
 "cells": [
  {
   "cell_type": "markdown",
   "metadata": {
    "application/vnd.databricks.v1+cell": {
     "cellMetadata": {},
     "inputWidgets": {},
     "nuid": "05efb698-678d-4ca7-8e9a-7476a053039e",
     "showTitle": false,
     "tableResultSettingsMap": {},
     "title": ""
    }
   },
   "source": [
    "## Install dependecies"
   ]
  },
  {
   "cell_type": "code",
   "execution_count": 0,
   "metadata": {
    "application/vnd.databricks.v1+cell": {
     "cellMetadata": {
      "byteLimit": 2048000,
      "rowLimit": 10000
     },
     "collapsed": true,
     "inputWidgets": {},
     "nuid": "8c807338-f5ea-47aa-ab76-e5c450bc6c7d",
     "showTitle": false,
     "tableResultSettingsMap": {},
     "title": ""
    }
   },
   "outputs": [],
   "source": [
    "%pip install polars\n",
    "%pip install deltalake"
   ]
  },
  {
   "cell_type": "code",
   "execution_count": 0,
   "metadata": {
    "application/vnd.databricks.v1+cell": {
     "cellMetadata": {
      "byteLimit": 2048000,
      "rowLimit": 10000
     },
     "inputWidgets": {},
     "nuid": "e38eb5c5-d784-4223-b34d-4c2dcd94f2a8",
     "showTitle": false,
     "tableResultSettingsMap": {},
     "title": ""
    }
   },
   "outputs": [],
   "source": [
    "%restart_python"
   ]
  },
  {
   "cell_type": "markdown",
   "metadata": {
    "application/vnd.databricks.v1+cell": {
     "cellMetadata": {},
     "inputWidgets": {},
     "nuid": "60578c39-5558-488b-994e-d70681c11961",
     "showTitle": false,
     "tableResultSettingsMap": {},
     "title": ""
    }
   },
   "source": [
    "## Init Unity Client"
   ]
  },
  {
   "cell_type": "code",
   "execution_count": 0,
   "metadata": {
    "application/vnd.databricks.v1+cell": {
     "cellMetadata": {
      "byteLimit": 2048000,
      "rowLimit": 10000
     },
     "inputWidgets": {},
     "nuid": "ea2eed6c-480c-449a-a37e-6864c4a644ce",
     "showTitle": false,
     "tableResultSettingsMap": {},
     "title": ""
    }
   },
   "outputs": [],
   "source": [
    "import polars as pl\n",
    "from polars import DataFrame\n",
    "from polars.catalog.unity.client import Catalog #https://github.com/pola-rs/polars/blob/main/py-polars/polars/catalog/unity/client.py\n",
    "\n",
    "# UC client initialization\n",
    "workspace_url = \"https://databricks-domain.cloud.databricks.com\"\n",
    "catalog_client = Catalog(workspace_url)\n",
    "\n",
    "# Parameters definition\n",
    "catalog_name = \"gold_blt\"\n",
    "namespace = \"domain1\"\n",
    "\n",
    "\n",
    "# Specify the S3 region in storage_options\n",
    "storage_options = {\n",
    "    \"AWS_REGION\": \"eu-west-1\"  # Replace with your S3 bucket region\n",
    "}"
   ]
  },
  {
   "cell_type": "markdown",
   "metadata": {
    "application/vnd.databricks.v1+cell": {
     "cellMetadata": {},
     "inputWidgets": {},
     "nuid": "9b3358e8-ba37-4977-a9ae-e89d7317447b",
     "showTitle": false,
     "tableResultSettingsMap": {},
     "title": ""
    }
   },
   "source": [
    "# Creation of a managed table"
   ]
  },
  {
   "cell_type": "code",
   "execution_count": 0,
   "metadata": {
    "application/vnd.databricks.v1+cell": {
     "cellMetadata": {
      "byteLimit": 2048000,
      "rowLimit": 10000
     },
     "inputWidgets": {},
     "nuid": "d3d983ac-ff1d-4005-9bdf-5b5ae250e0ca",
     "showTitle": false,
     "tableResultSettingsMap": {},
     "title": ""
    }
   },
   "outputs": [],
   "source": [
    "# Table definition\n",
    "table_name = \"polars_managed\"\n",
    "table_type = \"MANAGED\"  # Table type (ie, MANAGED or EXTERNAL)\n",
    "data_source_format = \"DELTA\"  # Data storage format (ie, PARQUET)\n",
    "\n",
    "# Schema definition\n",
    "schema = pl.Schema(\n",
    "    [(\"id\", pl.Int64), (\"name\", pl.Utf8)]\n",
    ")\n",
    "# Table creation in Unity Catalog\n",
    "catalog_client.create_table(\n",
    "    catalog_name=catalog_name,\n",
    "    namespace=namespace,\n",
    "    table_name=table_name,\n",
    "    schema=schema,\n",
    "    table_type=table_type,\n",
    "    data_source_format=data_source_format\n",
    ")\n",
    "\n",
    "# Creation of a simple dataframe\n",
    "data = {\n",
    "    \"id\": [1, 2, 3],\n",
    "    \"name\": [\"Alice\", \"Bob\", \"Charlie\"],\n",
    "}\n",
    "df = DataFrame(data)\n",
    "\n",
    "# Write dataframe in the previously created table\n",
    "catalog_client.write_table(\n",
    "    df=df,\n",
    "    catalog_name=catalog_name,\n",
    "    namespace=namespace,\n",
    "    table_name=table_name,\n",
    "    delta_mode=\"overwrite\",  # Write mode (ie, overwrite)\n",
    "    storage_options=storage_options\n",
    ")"
   ]
  },
  {
   "cell_type": "markdown",
   "metadata": {
    "application/vnd.databricks.v1+cell": {
     "cellMetadata": {},
     "inputWidgets": {},
     "nuid": "32a95070-0fad-460d-89c9-82d6ac636e8b",
     "showTitle": false,
     "tableResultSettingsMap": {},
     "title": ""
    }
   },
   "source": [
    "## Select table"
   ]
  },
  {
   "cell_type": "code",
   "execution_count": 0,
   "metadata": {
    "application/vnd.databricks.v1+cell": {
     "cellMetadata": {
      "byteLimit": 2048000,
      "rowLimit": 10000
     },
     "inputWidgets": {},
     "nuid": "1c5d62a8-3f38-4a1e-a42a-80e4e9b9286f",
     "showTitle": false,
     "tableResultSettingsMap": {},
     "title": ""
    }
   },
   "outputs": [],
   "source": [
    "catalog_client.scan_table(catalog_name=catalog_name, namespace=namespace, table_name=table_name).collect()"
   ]
  },
  {
   "cell_type": "markdown",
   "metadata": {
    "application/vnd.databricks.v1+cell": {
     "cellMetadata": {},
     "inputWidgets": {},
     "nuid": "9cde6566-67e3-49fd-b5a9-e22b3ca47751",
     "showTitle": false,
     "tableResultSettingsMap": {},
     "title": ""
    }
   },
   "source": [
    "# Creation of an external table"
   ]
  },
  {
   "cell_type": "code",
   "execution_count": 0,
   "metadata": {
    "application/vnd.databricks.v1+cell": {
     "cellMetadata": {
      "byteLimit": 2048000,
      "rowLimit": 10000
     },
     "inputWidgets": {},
     "nuid": "32e4a49a-7e10-4286-b206-7fdf9630fae8",
     "showTitle": false,
     "tableResultSettingsMap": {},
     "title": ""
    }
   },
   "outputs": [],
   "source": [
    "# Table definition\n",
    "table_name = \"polars_external\"\n",
    "storage_root = \"s3://some-path/dummy/domain1/polars_external\"\n",
    "table_type = \"EXTERNAL\"  # Table type (ie, MANAGED or EXTERNAL)\n",
    "data_source_format = \"DELTA\"  # Data storage format (ie, PARQUET)\n",
    "\n",
    "# Schema definition\n",
    "schema = pl.Schema(\n",
    "    [(\"id\", pl.Int64), (\"name\", pl.Utf8)]\n",
    ")\n",
    "\n",
    "# Table creation in Unity Catalog\n",
    "catalog_client.create_table(\n",
    "    catalog_name=catalog_name,\n",
    "    namespace=namespace,\n",
    "    table_name=table_name,\n",
    "    schema=schema,\n",
    "    table_type=table_type,\n",
    "    data_source_format=data_source_format,\n",
    "    storage_root=storage_root\n",
    ")\n",
    "\n",
    "# Creation of a simple dataframe\n",
    "data = {\n",
    "    \"id\": [1, 2, 3],\n",
    "    \"name\": [\"Massil\", \"Martin\", \"Pierre\"],\n",
    "}\n",
    "df = DataFrame(data)\n",
    "\n",
    "# Write dataframe in the previously created table\n",
    "catalog_client.write_table(\n",
    "    df=df,\n",
    "    catalog_name=catalog_name,\n",
    "    namespace=namespace,\n",
    "    table_name=table_name,\n",
    "    delta_mode=\"overwrite\",  # Write mode (ie, overwrite)\n",
    "    storage_options=storage_options\n",
    ")"
   ]
  },
  {
   "cell_type": "markdown",
   "metadata": {
    "application/vnd.databricks.v1+cell": {
     "cellMetadata": {},
     "inputWidgets": {},
     "nuid": "63f1b0a0-213e-457f-b3ce-8cea321567ee",
     "showTitle": false,
     "tableResultSettingsMap": {},
     "title": ""
    }
   },
   "source": [
    "## Select external table"
   ]
  },
  {
   "cell_type": "code",
   "execution_count": 0,
   "metadata": {
    "application/vnd.databricks.v1+cell": {
     "cellMetadata": {
      "byteLimit": 2048000,
      "rowLimit": 10000
     },
     "inputWidgets": {},
     "nuid": "8ba23fe3-0f9c-42dc-9962-1f73320e9829",
     "showTitle": false,
     "tableResultSettingsMap": {},
     "title": ""
    }
   },
   "outputs": [],
   "source": [
    "catalog_client.scan_table(catalog_name=catalog_name, namespace=namespace, table_name=table_name).collect()"
   ]
  },
  {
   "cell_type": "markdown",
   "metadata": {
    "application/vnd.databricks.v1+cell": {
     "cellMetadata": {},
     "inputWidgets": {},
     "nuid": "26c276fe-0c01-4a46-9d11-25928c5c187e",
     "showTitle": false,
     "tableResultSettingsMap": {},
     "title": ""
    }
   },
   "source": [
    "# Table deletion"
   ]
  },
  {
   "cell_type": "code",
   "execution_count": 0,
   "metadata": {
    "application/vnd.databricks.v1+cell": {
     "cellMetadata": {
      "byteLimit": 2048000,
      "rowLimit": 10000
     },
     "inputWidgets": {},
     "nuid": "b46a466a-d9f7-4e5e-8973-04641001308d",
     "showTitle": false,
     "tableResultSettingsMap": {},
     "title": ""
    }
   },
   "outputs": [],
   "source": [
    "table_to_delete = \"polars_external\"\n",
    "table_to_delete = \"polars_managed\"\n",
    "\n",
    "#Delete table\n",
    "catalog_client.delete_table(\n",
    "    catalog_name=catalog_name,\n",
    "    namespace=namespace,\n",
    "    table_name=table_to_delete\n",
    ")"
   ]
  }
 ],
 "metadata": {
  "application/vnd.databricks.v1+notebook": {
   "computePreferences": null,
   "dashboards": [],
   "environmentMetadata": {
    "base_environment": "",
    "environment_version": "2"
   },
   "inputWidgetPreferences": null,
   "language": "python",
   "notebookMetadata": {
    "mostRecentlyExecutedCommandWithImplicitDF": {
     "commandId": 8515657512404158,
     "dataframes": [
      "_sqldf"
     ]
    },
    "pythonIndentUnit": 4
   },
   "notebookName": "Polars Unity Catalog Table Management Tutorial from Databricks notebook",
   "widgets": {}
  },
  "language_info": {
   "name": "python"
  }
 },
 "nbformat": 4,
 "nbformat_minor": 0
}
