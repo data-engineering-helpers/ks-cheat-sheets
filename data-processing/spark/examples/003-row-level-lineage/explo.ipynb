{
 "cells": [
  {
   "cell_type": "code",
   "execution_count": 1,
   "id": "012fa2e7",
   "metadata": {},
   "outputs": [
    {
     "name": "stderr",
     "output_type": "stream",
     "text": [
      "WARNING: Using incubator modules: jdk.incubator.vector\n",
      "Using Spark's default log4j profile: org/apache/spark/log4j2-defaults.properties\n",
      "25/08/19 13:37:16 WARN Utils: Your hostname, FRL-1SFXW94, resolves to a loopback address: 127.0.1.1; using 10.255.255.254 instead (on interface lo)\n",
      "25/08/19 13:37:16 WARN Utils: Set SPARK_LOCAL_IP if you need to bind to another address\n",
      "Using Spark's default log4j profile: org/apache/spark/log4j2-defaults.properties\n",
      "Setting default log level to \"WARN\".\n",
      "To adjust logging level use sc.setLogLevel(newLevel). For SparkR, use setLogLevel(newLevel).\n",
      "25/08/19 13:37:17 WARN NativeCodeLoader: Unable to load native-hadoop library for your platform... using builtin-java classes where applicable\n"
     ]
    },
    {
     "data": {
      "text/plain": [
       "DataFrame[a: bigint, b: double, c: string, d: date, e: timestamp]"
      ]
     },
     "execution_count": 1,
     "metadata": {},
     "output_type": "execute_result"
    }
   ],
   "source": [
    "from pyspark.sql import SparkSession\n",
    "from datetime import date, datetime\n",
    "import pyspark.sql.functions as F\n",
    "\n",
    "spark = SparkSession.builder.getOrCreate()\n",
    "\n",
    "df = spark.createDataFrame([\n",
    "    (1, 2., 'string1', date(2000, 1, 1), datetime(2000, 1, 1, 12, 0)),\n",
    "    (2, 3., 'string2', date(2000, 2, 1), datetime(2000, 1, 2, 12, 0)),\n",
    "    (3, 4., 'string3', date(2000, 3, 1), datetime(2000, 1, 3, 12, 0))\n",
    "], schema='a long, b double, c string, d date, e timestamp')\n",
    "df"
   ]
  },
  {
   "cell_type": "code",
   "execution_count": 2,
   "id": "3c168ca4",
   "metadata": {},
   "outputs": [
    {
     "name": "stderr",
     "output_type": "stream",
     "text": [
      "                                                                                \r"
     ]
    },
    {
     "data": {
      "text/html": [
       "<div>\n",
       "<style scoped>\n",
       "    .dataframe tbody tr th:only-of-type {\n",
       "        vertical-align: middle;\n",
       "    }\n",
       "\n",
       "    .dataframe tbody tr th {\n",
       "        vertical-align: top;\n",
       "    }\n",
       "\n",
       "    .dataframe thead th {\n",
       "        text-align: right;\n",
       "    }\n",
       "</style>\n",
       "<table border=\"1\" class=\"dataframe\">\n",
       "  <thead>\n",
       "    <tr style=\"text-align: right;\">\n",
       "      <th></th>\n",
       "      <th>a</th>\n",
       "      <th>b</th>\n",
       "      <th>c</th>\n",
       "      <th>d</th>\n",
       "      <th>e</th>\n",
       "    </tr>\n",
       "  </thead>\n",
       "  <tbody>\n",
       "    <tr>\n",
       "      <th>0</th>\n",
       "      <td>1</td>\n",
       "      <td>2.0</td>\n",
       "      <td>string1</td>\n",
       "      <td>2000-01-01</td>\n",
       "      <td>2000-01-01 12:00:00</td>\n",
       "    </tr>\n",
       "    <tr>\n",
       "      <th>1</th>\n",
       "      <td>2</td>\n",
       "      <td>3.0</td>\n",
       "      <td>string2</td>\n",
       "      <td>2000-02-01</td>\n",
       "      <td>2000-01-02 12:00:00</td>\n",
       "    </tr>\n",
       "    <tr>\n",
       "      <th>2</th>\n",
       "      <td>3</td>\n",
       "      <td>4.0</td>\n",
       "      <td>string3</td>\n",
       "      <td>2000-03-01</td>\n",
       "      <td>2000-01-03 12:00:00</td>\n",
       "    </tr>\n",
       "  </tbody>\n",
       "</table>\n",
       "</div>"
      ],
      "text/plain": [
       "   a    b        c           d                   e\n",
       "0  1  2.0  string1  2000-01-01 2000-01-01 12:00:00\n",
       "1  2  3.0  string2  2000-02-01 2000-01-02 12:00:00\n",
       "2  3  4.0  string3  2000-03-01 2000-01-03 12:00:00"
      ]
     },
     "execution_count": 2,
     "metadata": {},
     "output_type": "execute_result"
    }
   ],
   "source": [
    "df.toPandas()"
   ]
  },
  {
   "cell_type": "code",
   "execution_count": 3,
   "id": "5ecc28ce",
   "metadata": {},
   "outputs": [
    {
     "data": {
      "text/plain": [
       "DataFrame[a: bigint, b: double, c: string, d: date, e: timestamp]"
      ]
     },
     "execution_count": 3,
     "metadata": {},
     "output_type": "execute_result"
    }
   ],
   "source": [
    "df.groupBy(\"a\")._df"
   ]
  },
  {
   "cell_type": "code",
   "execution_count": 53,
   "id": "e9065a93",
   "metadata": {},
   "outputs": [
    {
     "name": "stdout",
     "output_type": "stream",
     "text": [
      "sum(row_number() OVER (PARTITION BY toto ORDER BY titi ASC NULLS FIRST ROWS BETWEEN UNBOUNDED PRECEDING AND CURRENT ROW)) OVER (PARTITION BY toto ORDER BY titi ASC NULLS FIRST ROWS BETWEEN UNBOUNDED PRECEDING AND CURRENT ROW)\n"
     ]
    }
   ],
   "source": [
    "from pyspark.sql.window import Window\n",
    "import re\n",
    "\n",
    "w = Window.orderBy(\"titi\").rowsBetween(Window.unboundedPreceding, Window.currentRow).partitionBy(\"toto\")\n",
    "\n",
    "str(F.row_number().over(w).name())\n",
    "\n",
    "col_expr = F.sum(F.row_number().over(w)).over(w)._jc.toString()\n",
    "print(col_expr)\n",
    "# F.lit(\"a\")\n"
   ]
  },
  {
   "cell_type": "code",
   "execution_count": null,
   "id": "428a601f",
   "metadata": {},
   "outputs": [],
   "source": [
    "def toto(s: str):\n",
    "    if \"OVER\" in s:\n",
    "        over_positions = list(re.finditer(r'\\b OVER \\b', s, re.IGNORECASE))\n",
    "        last_over = over_positions[-1]\n",
    "        s[last_over.start():]\n",
    "        return \n",
    "    else:\n",
    "        return \"tutu()\""
   ]
  },
  {
   "cell_type": "code",
   "execution_count": 61,
   "id": "e25872ca",
   "metadata": {},
   "outputs": [
    {
     "data": {
      "text/plain": [
       "<re.Match object; span=(122, 126), match='OVER'>"
      ]
     },
     "execution_count": 61,
     "metadata": {},
     "output_type": "execute_result"
    }
   ],
   "source": [
    "list(re.finditer(r'\\bOVER\\b', col_expr, re.IGNORECASE))[-1]"
   ]
  },
  {
   "cell_type": "code",
   "execution_count": 54,
   "id": "56522d72",
   "metadata": {},
   "outputs": [
    {
     "data": {
      "text/plain": [
       "'sum(toto) OVER (PARTITION BY titi ORDER BY titi)'"
      ]
     },
     "execution_count": 54,
     "metadata": {},
     "output_type": "execute_result"
    }
   ],
   "source": [
    "re.sub(\n",
    "    r\"\\b(\\w+)\\b(?=\\sOVER\\s\\(.+\\))\",\n",
    "    \"a\", \n",
    "    \"sum(toto) OVER (PARTITION BY titi ORDER BY titi)\"\n",
    ")"
   ]
  },
  {
   "cell_type": "code",
   "execution_count": 46,
   "id": "0a99f8fa",
   "metadata": {},
   "outputs": [
    {
     "data": {
      "text/plain": [
       "['sum(row_number() ',\n",
       " ' (PARTITION BY toto ORDER BY titi ASC NULLS FIRST ROWS BETWEEN UNBOUNDED PRECEDING AND CURRENT ROW)) ',\n",
       " ' (PARTITION BY toto ORDER BY titi ASC NULLS FIRST ROWS BETWEEN UNBOUNDED PRECEDING AND CURRENT ROW)']"
      ]
     },
     "execution_count": 46,
     "metadata": {},
     "output_type": "execute_result"
    }
   ],
   "source": [
    "col_expr.split(\"OVER\")"
   ]
  },
  {
   "cell_type": "code",
   "execution_count": 39,
   "id": "0f2b9498",
   "metadata": {},
   "outputs": [
    {
     "data": {
      "text/plain": [
       "'row_number() OVER (ORDER BY toto ASC NULLS FIRST)'"
      ]
     },
     "execution_count": 39,
     "metadata": {},
     "output_type": "execute_result"
    }
   ],
   "source": [
    "F.row_number().over(Window.orderBy(\"toto\"))._jc.toString()"
   ]
  },
  {
   "cell_type": "code",
   "execution_count": 38,
   "id": "3692764f",
   "metadata": {},
   "outputs": [
    {
     "data": {
      "text/plain": [
       "'CAST(array_distinct(flatten(collect_list(toto))) AS INT)'"
      ]
     },
     "execution_count": 38,
     "metadata": {},
     "output_type": "execute_result"
    }
   ],
   "source": [
    "F.array_distinct(F.flatten(F.collect_list(\"toto\"))).cast(\"integer\")._jc.toString()"
   ]
  },
  {
   "cell_type": "code",
   "execution_count": 34,
   "id": "a1b13205",
   "metadata": {},
   "outputs": [
    {
     "data": {
      "text/html": [
       "<div>\n",
       "<style scoped>\n",
       "    .dataframe tbody tr th:only-of-type {\n",
       "        vertical-align: middle;\n",
       "    }\n",
       "\n",
       "    .dataframe tbody tr th {\n",
       "        vertical-align: top;\n",
       "    }\n",
       "\n",
       "    .dataframe thead th {\n",
       "        text-align: right;\n",
       "    }\n",
       "</style>\n",
       "<table border=\"1\" class=\"dataframe\">\n",
       "  <thead>\n",
       "    <tr style=\"text-align: right;\">\n",
       "      <th></th>\n",
       "      <th>col2</th>\n",
       "      <th>merged_col1</th>\n",
       "    </tr>\n",
       "  </thead>\n",
       "  <tbody>\n",
       "    <tr>\n",
       "      <th>0</th>\n",
       "      <td>A</td>\n",
       "      <td>[apple, banana, cherry]</td>\n",
       "    </tr>\n",
       "    <tr>\n",
       "      <th>1</th>\n",
       "      <td>B</td>\n",
       "      <td>[orange, grape]</td>\n",
       "    </tr>\n",
       "    <tr>\n",
       "      <th>2</th>\n",
       "      <td>C</td>\n",
       "      <td>[kiwi, melon]</td>\n",
       "    </tr>\n",
       "  </tbody>\n",
       "</table>\n",
       "</div>"
      ],
      "text/plain": [
       "  col2              merged_col1\n",
       "0    A  [apple, banana, cherry]\n",
       "1    B          [orange, grape]\n",
       "2    C            [kiwi, melon]"
      ]
     },
     "execution_count": 34,
     "metadata": {},
     "output_type": "execute_result"
    }
   ],
   "source": [
    "data = [\n",
    "    (\"A\", [\"apple\", \"banana\"]),\n",
    "    (\"B\", [\"orange\", \"grape\"]),\n",
    "    (\"A\", [\"apple\", \"cherry\"]),\n",
    "    (\"C\", [\"kiwi\", \"melon\"]),\n",
    "    (\"B\", [\"grape\", \"orange\"])\n",
    "]\n",
    "df = spark.createDataFrame(data, [\"col2\", \"col1\"])\n",
    "\n",
    "# 2. Group by 'col2' and apply the aggregation\n",
    "#    - `flatten` merges the sub-arrays into a single array.\n",
    "#    - `array_distinct` removes duplicates.\n",
    "result_df = df.groupBy(\"col2\").agg(\n",
    "    F.array_distinct(\n",
    "        F.flatten(\n",
    "            F.collect_list(\"col1\")\n",
    "        )\n",
    "    ).alias(\"merged_col1\")\n",
    ")\n",
    "result_df.toPandas()"
   ]
  },
  {
   "cell_type": "code",
   "execution_count": 35,
   "id": "28956874",
   "metadata": {},
   "outputs": [
    {
     "data": {
      "text/html": [
       "<div>\n",
       "<style scoped>\n",
       "    .dataframe tbody tr th:only-of-type {\n",
       "        vertical-align: middle;\n",
       "    }\n",
       "\n",
       "    .dataframe tbody tr th {\n",
       "        vertical-align: top;\n",
       "    }\n",
       "\n",
       "    .dataframe thead th {\n",
       "        text-align: right;\n",
       "    }\n",
       "</style>\n",
       "<table border=\"1\" class=\"dataframe\">\n",
       "  <thead>\n",
       "    <tr style=\"text-align: right;\">\n",
       "      <th></th>\n",
       "      <th>merged_col1</th>\n",
       "    </tr>\n",
       "  </thead>\n",
       "  <tbody>\n",
       "    <tr>\n",
       "      <th>0</th>\n",
       "      <td>[apple, banana, orange, grape, cherry, kiwi, m...</td>\n",
       "    </tr>\n",
       "  </tbody>\n",
       "</table>\n",
       "</div>"
      ],
      "text/plain": [
       "                                         merged_col1\n",
       "0  [apple, banana, orange, grape, cherry, kiwi, m..."
      ]
     },
     "execution_count": 35,
     "metadata": {},
     "output_type": "execute_result"
    }
   ],
   "source": [
    "df.select(F.array_distinct(\n",
    "        F.flatten(\n",
    "            F.collect_list(\"col1\")\n",
    "        )\n",
    "    ).alias(\"merged_col1\")).toPandas()"
   ]
  },
  {
   "cell_type": "code",
   "execution_count": 20,
   "id": "ceff4811",
   "metadata": {},
   "outputs": [
    {
     "data": {
      "text/html": [
       "<div>\n",
       "<style scoped>\n",
       "    .dataframe tbody tr th:only-of-type {\n",
       "        vertical-align: middle;\n",
       "    }\n",
       "\n",
       "    .dataframe tbody tr th {\n",
       "        vertical-align: top;\n",
       "    }\n",
       "\n",
       "    .dataframe thead th {\n",
       "        text-align: right;\n",
       "    }\n",
       "</style>\n",
       "<table border=\"1\" class=\"dataframe\">\n",
       "  <thead>\n",
       "    <tr style=\"text-align: right;\">\n",
       "      <th></th>\n",
       "      <th>col1</th>\n",
       "      <th>col2</th>\n",
       "    </tr>\n",
       "  </thead>\n",
       "  <tbody>\n",
       "    <tr>\n",
       "      <th>0</th>\n",
       "      <td>A</td>\n",
       "      <td>6</td>\n",
       "    </tr>\n",
       "    <tr>\n",
       "      <th>1</th>\n",
       "      <td>A</td>\n",
       "      <td>6</td>\n",
       "    </tr>\n",
       "    <tr>\n",
       "      <th>2</th>\n",
       "      <td>B</td>\n",
       "      <td>9</td>\n",
       "    </tr>\n",
       "    <tr>\n",
       "      <th>3</th>\n",
       "      <td>B</td>\n",
       "      <td>9</td>\n",
       "    </tr>\n",
       "    <tr>\n",
       "      <th>4</th>\n",
       "      <td>C</td>\n",
       "      <td>5</td>\n",
       "    </tr>\n",
       "  </tbody>\n",
       "</table>\n",
       "</div>"
      ],
      "text/plain": [
       "  col1  col2\n",
       "0    A     6\n",
       "1    A     6\n",
       "2    B     9\n",
       "3    B     9\n",
       "4    C     5"
      ]
     },
     "execution_count": 20,
     "metadata": {},
     "output_type": "execute_result"
    }
   ],
   "source": [
    "data = [\n",
    "    (\"A\", 2),\n",
    "    (\"B\", 3),\n",
    "    (\"A\", 4),\n",
    "    (\"C\", 5),\n",
    "    (\"B\", 6)\n",
    "]\n",
    "df = spark.createDataFrame(data, [\"col1\", \"col2\"])\n",
    "\n",
    "result_df = df.select(\n",
    "    \"col1\",\n",
    "    F.sum(\"col2\").over(Window.partitionBy(\"col1\")).alias(\"col2\")\n",
    ")\n",
    "result_df.toPandas()"
   ]
  },
  {
   "cell_type": "code",
   "execution_count": 32,
   "id": "81f1d6a6",
   "metadata": {},
   "outputs": [
    {
     "data": {
      "text/html": [
       "<div>\n",
       "<style scoped>\n",
       "    .dataframe tbody tr th:only-of-type {\n",
       "        vertical-align: middle;\n",
       "    }\n",
       "\n",
       "    .dataframe tbody tr th {\n",
       "        vertical-align: top;\n",
       "    }\n",
       "\n",
       "    .dataframe thead th {\n",
       "        text-align: right;\n",
       "    }\n",
       "</style>\n",
       "<table border=\"1\" class=\"dataframe\">\n",
       "  <thead>\n",
       "    <tr style=\"text-align: right;\">\n",
       "      <th></th>\n",
       "      <th>sum(col2)</th>\n",
       "    </tr>\n",
       "  </thead>\n",
       "  <tbody>\n",
       "    <tr>\n",
       "      <th>0</th>\n",
       "      <td>20</td>\n",
       "    </tr>\n",
       "  </tbody>\n",
       "</table>\n",
       "</div>"
      ],
      "text/plain": [
       "   sum(col2)\n",
       "0         20"
      ]
     },
     "execution_count": 32,
     "metadata": {},
     "output_type": "execute_result"
    }
   ],
   "source": [
    "df.select(F.sum(\"col2\")).toPandas()"
   ]
  },
  {
   "cell_type": "code",
   "execution_count": 101,
   "id": "e6e503e8",
   "metadata": {},
   "outputs": [
    {
     "name": "stdout",
     "output_type": "stream",
     "text": [
      "Original: 'toto OVER (titi)' -> New: 'new_word OVER (titi)'\n",
      "Original: 'amount_column OVER (partition_col)' -> New: 'sum_of_amount OVER (partition_col)'\n",
      "Original: 'my_column + 1, my_column OVER (some_other_column)' -> New: 'my_column + 1, sum_of_my_column OVER (some_other_column)'\n"
     ]
    }
   ],
   "source": [
    "import re\n",
    "\n",
    "def replace_word_before_over(original_string, replacement):\n",
    "    \"\"\"\n",
    "    Replaces the first word in a string of the form \"word OVER (another_word)\".\n",
    "\n",
    "    Args:\n",
    "        original_string (str): The string to modify.\n",
    "        replacement (str): The word to replace the first word with.\n",
    "\n",
    "    Returns:\n",
    "        str: The new string with the word replaced.\n",
    "    \"\"\"\n",
    "    # The regex pattern:\n",
    "    # \\b(\\w+)\\b : Matches and captures a word (group 1)\n",
    "    # (?=\\sOVER\\s\\(.+\\)) : Positive lookahead to ensure it's followed by \" OVER (some_text)\"\n",
    "    pattern = r\"\\b(\\w+)\\b(?=\\sOVER\\s\\(.+\\))\"\n",
    "\n",
    "    # Use re.sub to replace the captured word\n",
    "    return re.sub(pattern, replacement, original_string)\n",
    "\n",
    "# --- Examples ---\n",
    "\n",
    "# Example 1: Original problem\n",
    "text1 = \"toto OVER (titi)\"\n",
    "new_text1 = replace_word_before_over(text1, \"new_word\")\n",
    "print(f\"Original: '{text1}' -> New: '{new_text1}'\")\n",
    "\n",
    "# Example 2: Different words\n",
    "text2 = \"amount_column OVER (partition_col)\"\n",
    "new_text2 = replace_word_before_over(text2, \"sum_of_amount\")\n",
    "print(f\"Original: '{text2}' -> New: '{new_text2}'\")\n",
    "\n",
    "# Example 3: Edge case - the word appears elsewhere\n",
    "text3 = \"my_column + 1, my_column OVER (some_other_column)\"\n",
    "new_text3 = replace_word_before_over(text3, \"sum_of_my_column\")\n",
    "print(f\"Original: '{text3}' -> New: '{new_text3}'\")"
   ]
  }
 ],
 "metadata": {
  "kernelspec": {
   "display_name": "003-row-level-lineage",
   "language": "python",
   "name": "python3"
  },
  "language_info": {
   "codemirror_mode": {
    "name": "ipython",
    "version": 3
   },
   "file_extension": ".py",
   "mimetype": "text/x-python",
   "name": "python",
   "nbconvert_exporter": "python",
   "pygments_lexer": "ipython3",
   "version": "3.12.11"
  }
 },
 "nbformat": 4,
 "nbformat_minor": 5
}
