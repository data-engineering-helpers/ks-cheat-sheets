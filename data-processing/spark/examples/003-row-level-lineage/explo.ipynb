{
 "cells": [
  {
   "cell_type": "code",
   "execution_count": 33,
   "id": "012fa2e7",
   "metadata": {},
   "outputs": [
    {
     "data": {
      "text/plain": [
       "DataFrame[a: bigint, b: double, c: string, d: date, e: timestamp]"
      ]
     },
     "execution_count": 33,
     "metadata": {},
     "output_type": "execute_result"
    }
   ],
   "source": [
    "from pyspark.sql import SparkSession\n",
    "from datetime import date, datetime\n",
    "import pyspark.sql.functions as F\n",
    "from pyspark.sql.window import Window\n",
    "import typing as T\n",
    "from pyspark.sql import Column, DataFrame\n",
    "\n",
    "spark = SparkSession.builder.getOrCreate()\n",
    "\n",
    "df = spark.createDataFrame([\n",
    "    (1, 2., 'string1', date(2000, 1, 1), datetime(2000, 1, 1, 12, 0)),\n",
    "    (2, 3., 'string2', date(2000, 2, 1), datetime(2000, 1, 2, 12, 0)),\n",
    "    (3, 4., 'string3', date(2000, 3, 1), datetime(2000, 1, 3, 12, 0)),\n",
    "    (4, 5., 'string3', date(2000, 2, 1), datetime(2000, 1, 3, 12, 0)),\n",
    "], schema='a long, b double, c string, d date, e timestamp')\n",
    "df"
   ]
  },
  {
   "cell_type": "code",
   "execution_count": 34,
   "id": "3c168ca4",
   "metadata": {},
   "outputs": [
    {
     "data": {
      "text/html": [
       "<div>\n",
       "<style scoped>\n",
       "    .dataframe tbody tr th:only-of-type {\n",
       "        vertical-align: middle;\n",
       "    }\n",
       "\n",
       "    .dataframe tbody tr th {\n",
       "        vertical-align: top;\n",
       "    }\n",
       "\n",
       "    .dataframe thead th {\n",
       "        text-align: right;\n",
       "    }\n",
       "</style>\n",
       "<table border=\"1\" class=\"dataframe\">\n",
       "  <thead>\n",
       "    <tr style=\"text-align: right;\">\n",
       "      <th></th>\n",
       "      <th>c</th>\n",
       "      <th>d</th>\n",
       "      <th>sum_a</th>\n",
       "    </tr>\n",
       "  </thead>\n",
       "  <tbody>\n",
       "    <tr>\n",
       "      <th>0</th>\n",
       "      <td>string1</td>\n",
       "      <td>2000-01-01</td>\n",
       "      <td>1</td>\n",
       "    </tr>\n",
       "    <tr>\n",
       "      <th>1</th>\n",
       "      <td>string2</td>\n",
       "      <td>2000-02-01</td>\n",
       "      <td>9</td>\n",
       "    </tr>\n",
       "    <tr>\n",
       "      <th>2</th>\n",
       "      <td>string3</td>\n",
       "      <td>2000-02-01</td>\n",
       "      <td>9</td>\n",
       "    </tr>\n",
       "    <tr>\n",
       "      <th>3</th>\n",
       "      <td>string3</td>\n",
       "      <td>2000-03-01</td>\n",
       "      <td>7</td>\n",
       "    </tr>\n",
       "  </tbody>\n",
       "</table>\n",
       "</div>"
      ],
      "text/plain": [
       "         c           d  sum_a\n",
       "0  string1  2000-01-01      1\n",
       "1  string2  2000-02-01      9\n",
       "2  string3  2000-02-01      9\n",
       "3  string3  2000-03-01      7"
      ]
     },
     "execution_count": 34,
     "metadata": {},
     "output_type": "execute_result"
    }
   ],
   "source": [
    "df.select(\"c\", \"d\", F.sum(F.sum(F.col(\"a\")).over(Window.partitionBy(\"c\"))).over(Window.partitionBy(\"d\")).alias(\"sum_a\")).toPandas()"
   ]
  },
  {
   "cell_type": "code",
   "execution_count": 4,
   "id": "5ecc28ce",
   "metadata": {},
   "outputs": [
    {
     "data": {
      "text/plain": [
       "DataFrame[a: bigint, b: double, c: string, d: date, e: timestamp]"
      ]
     },
     "execution_count": 4,
     "metadata": {},
     "output_type": "execute_result"
    }
   ],
   "source": [
    "df.groupBy(\"a\")._df"
   ]
  },
  {
   "cell_type": "code",
   "execution_count": null,
   "id": "e9065a93",
   "metadata": {},
   "outputs": [
    {
     "name": "stdout",
     "output_type": "stream",
     "text": [
      "%(sum(row_number() OVER (PARTITION BY toto ORDER BY titi ASC NULLS FIRST ROWS BETWEEN UNBOUNDED PRECEDING AND CURRENT ROW)) OVER (PARTITION BY tutu), 10)\n"
     ]
    }
   ],
   "source": [
    "import re\n",
    "\n",
    "w = Window.orderBy(\"titi\").rowsBetween(Window.unboundedPreceding, Window.currentRow).partitionBy(\"toto\")\n",
    "w2 = Window.partitionBy(\"tutu\")\n",
    "\n",
    "str(F.row_number().over(w).name())\n",
    "\n",
    "col = F.sum(F.row_number().over(w)).over(w2) % F.lit(10) # F.sum(F.row_number().over(w)).over(w)\n",
    "col_expr = str(col._jc)\n",
    "print(col_expr)\n",
    "# F.lit(\"a\")\n"
   ]
  },
  {
   "cell_type": "code",
   "execution_count": 27,
   "id": "2b227a14",
   "metadata": {},
   "outputs": [
    {
     "data": {
      "text/plain": [
       "'row_number() OVER (PARTITION BY toto ORDER BY titi ASC NULLS FIRST ROWS BETWEEN UNBOUNDED PRECEDING AND CURRENT ROW) OVER (PARTITION BY tutu ORDER BY azerty ASC NULLS FIRST)'"
      ]
     },
     "execution_count": 27,
     "metadata": {},
     "output_type": "execute_result"
    }
   ],
   "source": [
    "str(F.row_number().over(w).over(Window.orderBy(\"azerty\").partitionBy(\"tutu\"))._jc)"
   ]
  },
  {
   "cell_type": "code",
   "execution_count": 53,
   "id": "832dd6b7",
   "metadata": {},
   "outputs": [
    {
     "data": {
      "text/plain": [
       "[<re.Match object; span=(18, 25), match=' OVER ('>,\n",
       " <re.Match object; span=(123, 130), match=' OVER ('>]"
      ]
     },
     "execution_count": 53,
     "metadata": {},
     "output_type": "execute_result"
    }
   ],
   "source": [
    "list(re.finditer(r' OVER \\(', col_expr, re.IGNORECASE))"
   ]
  },
  {
   "cell_type": "code",
   "execution_count": null,
   "id": "dc7d28b2",
   "metadata": {},
   "outputs": [],
   "source": [
    "import itertools\n",
    "list(itertools.accumulate(l))"
   ]
  },
  {
   "cell_type": "code",
   "execution_count": 83,
   "id": "051ae363",
   "metadata": {},
   "outputs": [
    {
     "data": {
      "text/plain": [
       "'(PARTITION BY toto ORDER BY titi ASC NULLS FIRST ROWS BETWEEN UNBOUNDED PRECEDING AND CURRENT ROW))'"
      ]
     },
     "execution_count": 83,
     "metadata": {},
     "output_type": "execute_result"
    }
   ],
   "source": [
    "col_expr[24:123]"
   ]
  },
  {
   "cell_type": "code",
   "execution_count": 20,
   "id": "428a601f",
   "metadata": {},
   "outputs": [
    {
     "name": "stdout",
     "output_type": "stream",
     "text": [
      "[' OVER (PARTITION BY toto ORDER BY titi ASC NULLS FIRST ROWS BETWEEN '\n",
      " 'UNBOUNDED PRECEDING AND CURRENT ROW)',\n",
      " ' OVER (PARTITION BY tutu)']\n",
      "Column<'(array_distinct(flatten(collect_list((array_distinct(flatten(collect_list(toto)))) OVER (PARTITION BY toto ORDER BY titi ASC NULLS FIRST ROWS BETWEEN UNBOUNDED PRECEDING AND CURRENT ROW))))) OVER (PARTITION BY tutu) AS toto'>\n"
     ]
    }
   ],
   "source": [
    "def find_closing_parenthesis_idx(s: str):\n",
    "    if s[0] != '(':\n",
    "        return -1\n",
    "    stack = 0\n",
    "    for i, c in enumerate(s):\n",
    "        if c == '(':\n",
    "            stack += 1\n",
    "        elif c == ')':\n",
    "            stack -= 1\n",
    "            if stack == 0:\n",
    "                return i\n",
    "    return -1\n",
    "\n",
    "\n",
    "ColumnOrName = T.Union[Column, str]\n",
    "\n",
    "def find_partitions_expr(col: ColumnOrName) -> T.List[str]:\n",
    "    match col:\n",
    "        case Column():\n",
    "            return find_partitions_expr(str(col._jc))\n",
    "        case str():\n",
    "            over_positions = list(re.finditer(r' OVER ', col))\n",
    "            l = []\n",
    "            for i, _ in enumerate(over_positions):\n",
    "                j = find_closing_parenthesis_idx(col[over_positions[i].end():over_positions[i+1].start() if over_positions[i+1:] else None])\n",
    "                l.append(col[over_positions[i].start():over_positions[i].end() + j + 1])\n",
    "            return l\n",
    "\n",
    "\n",
    "def row_ids_column(df: DataFrame) -> str:\n",
    "    return f\"__row_ids_{id(df)}\"\n",
    "\n",
    "\n",
    "import functools\n",
    "\n",
    "def get_aggregation_column(row_ids_col: ColumnOrName) -> Column:\n",
    "    return F.array_distinct(\n",
    "        F.flatten(\n",
    "            F.collect_list(row_ids_col)\n",
    "        )\n",
    "    )\n",
    "\n",
    "\n",
    "def get_aggregation_expr(row_ids_col: ColumnOrName) -> str:\n",
    "    return str(get_aggregation_column(row_ids_col)._jc)\n",
    "\n",
    "def aggregate_row_ids(col: ColumnOrName, row_ids_col: str):\n",
    "        return F.expr(\n",
    "            functools.reduce(\n",
    "                lambda col, partition: f\"({get_aggregation_expr(col)}){partition}\",\n",
    "                find_partitions_expr(col),\n",
    "                row_ids_col\n",
    "            )\n",
    "        ).alias(row_ids_col)\n",
    "\n",
    "from pprint import pprint\n",
    "\n",
    "pprint(find_partitions_expr(col_expr))\n",
    "\n",
    "print(aggregate_row_ids(col_expr, \"toto\"))"
   ]
  },
  {
   "cell_type": "code",
   "execution_count": 9,
   "id": "068988f5",
   "metadata": {},
   "outputs": [
    {
     "data": {
      "text/plain": [
       "Column<'toto'>"
      ]
     },
     "execution_count": 9,
     "metadata": {},
     "output_type": "execute_result"
    }
   ],
   "source": [
    "F.expr(\"toto\")"
   ]
  },
  {
   "cell_type": "code",
   "execution_count": 97,
   "id": "6c941ecf",
   "metadata": {},
   "outputs": [
    {
     "data": {
      "text/plain": [
       "Column<'array_distinct(flatten(collect_list(toto))) OVER (PARTITION BY tutu) AS toto'>"
      ]
     },
     "execution_count": 97,
     "metadata": {},
     "output_type": "execute_result"
    }
   ],
   "source": [
    "F.expr(str(F.array_distinct(\n",
    "            F.flatten(\n",
    "                F.collect_list(\"toto\")\n",
    "            )\n",
    "        )._jc) + ' OVER (PARTITION BY tutu)').alias(\"toto\")"
   ]
  },
  {
   "cell_type": "code",
   "execution_count": 61,
   "id": "e25872ca",
   "metadata": {},
   "outputs": [
    {
     "data": {
      "text/plain": [
       "<re.Match object; span=(122, 126), match='OVER'>"
      ]
     },
     "execution_count": 61,
     "metadata": {},
     "output_type": "execute_result"
    }
   ],
   "source": [
    "list(re.finditer(r'\\bOVER\\b', col_expr, re.IGNORECASE))[-1]"
   ]
  },
  {
   "cell_type": "code",
   "execution_count": 54,
   "id": "56522d72",
   "metadata": {},
   "outputs": [
    {
     "data": {
      "text/plain": [
       "'sum(toto) OVER (PARTITION BY titi ORDER BY titi)'"
      ]
     },
     "execution_count": 54,
     "metadata": {},
     "output_type": "execute_result"
    }
   ],
   "source": [
    "re.sub(\n",
    "    r\"\\b(\\w+)\\b(?=\\sOVER\\s\\(.+\\))\",\n",
    "    \"a\", \n",
    "    \"sum(toto) OVER (PARTITION BY titi ORDER BY titi)\"\n",
    ")"
   ]
  },
  {
   "cell_type": "code",
   "execution_count": 46,
   "id": "0a99f8fa",
   "metadata": {},
   "outputs": [
    {
     "data": {
      "text/plain": [
       "['sum(row_number() ',\n",
       " ' (PARTITION BY toto ORDER BY titi ASC NULLS FIRST ROWS BETWEEN UNBOUNDED PRECEDING AND CURRENT ROW)) ',\n",
       " ' (PARTITION BY toto ORDER BY titi ASC NULLS FIRST ROWS BETWEEN UNBOUNDED PRECEDING AND CURRENT ROW)']"
      ]
     },
     "execution_count": 46,
     "metadata": {},
     "output_type": "execute_result"
    }
   ],
   "source": [
    "col_expr.split(\"OVER\")"
   ]
  },
  {
   "cell_type": "code",
   "execution_count": 39,
   "id": "0f2b9498",
   "metadata": {},
   "outputs": [
    {
     "data": {
      "text/plain": [
       "'row_number() OVER (ORDER BY toto ASC NULLS FIRST)'"
      ]
     },
     "execution_count": 39,
     "metadata": {},
     "output_type": "execute_result"
    }
   ],
   "source": [
    "F.row_number().over(Window.orderBy(\"toto\"))._jc.toString()"
   ]
  },
  {
   "cell_type": "code",
   "execution_count": 38,
   "id": "3692764f",
   "metadata": {},
   "outputs": [
    {
     "data": {
      "text/plain": [
       "'CAST(array_distinct(flatten(collect_list(toto))) AS INT)'"
      ]
     },
     "execution_count": 38,
     "metadata": {},
     "output_type": "execute_result"
    }
   ],
   "source": [
    "F.array_distinct(F.flatten(F.collect_list(\"toto\"))).cast(\"integer\")._jc.toString()"
   ]
  },
  {
   "cell_type": "code",
   "execution_count": 34,
   "id": "a1b13205",
   "metadata": {},
   "outputs": [
    {
     "data": {
      "text/html": [
       "<div>\n",
       "<style scoped>\n",
       "    .dataframe tbody tr th:only-of-type {\n",
       "        vertical-align: middle;\n",
       "    }\n",
       "\n",
       "    .dataframe tbody tr th {\n",
       "        vertical-align: top;\n",
       "    }\n",
       "\n",
       "    .dataframe thead th {\n",
       "        text-align: right;\n",
       "    }\n",
       "</style>\n",
       "<table border=\"1\" class=\"dataframe\">\n",
       "  <thead>\n",
       "    <tr style=\"text-align: right;\">\n",
       "      <th></th>\n",
       "      <th>col2</th>\n",
       "      <th>merged_col1</th>\n",
       "    </tr>\n",
       "  </thead>\n",
       "  <tbody>\n",
       "    <tr>\n",
       "      <th>0</th>\n",
       "      <td>A</td>\n",
       "      <td>[apple, banana, cherry]</td>\n",
       "    </tr>\n",
       "    <tr>\n",
       "      <th>1</th>\n",
       "      <td>B</td>\n",
       "      <td>[orange, grape]</td>\n",
       "    </tr>\n",
       "    <tr>\n",
       "      <th>2</th>\n",
       "      <td>C</td>\n",
       "      <td>[kiwi, melon]</td>\n",
       "    </tr>\n",
       "  </tbody>\n",
       "</table>\n",
       "</div>"
      ],
      "text/plain": [
       "  col2              merged_col1\n",
       "0    A  [apple, banana, cherry]\n",
       "1    B          [orange, grape]\n",
       "2    C            [kiwi, melon]"
      ]
     },
     "execution_count": 34,
     "metadata": {},
     "output_type": "execute_result"
    }
   ],
   "source": [
    "data = [\n",
    "    (\"A\", [\"apple\", \"banana\"]),\n",
    "    (\"B\", [\"orange\", \"grape\"]),\n",
    "    (\"A\", [\"apple\", \"cherry\"]),\n",
    "    (\"C\", [\"kiwi\", \"melon\"]),\n",
    "    (\"B\", [\"grape\", \"orange\"])\n",
    "]\n",
    "df = spark.createDataFrame(data, [\"col2\", \"col1\"])\n",
    "\n",
    "# 2. Group by 'col2' and apply the aggregation\n",
    "#    - `flatten` merges the sub-arrays into a single array.\n",
    "#    - `array_distinct` removes duplicates.\n",
    "result_df = df.groupBy(\"col2\").agg(\n",
    "    F.array_distinct(\n",
    "        F.flatten(\n",
    "            F.collect_list(\"col1\")\n",
    "        )\n",
    "    ).alias(\"merged_col1\")\n",
    ")\n",
    "result_df.toPandas()"
   ]
  },
  {
   "cell_type": "code",
   "execution_count": 35,
   "id": "28956874",
   "metadata": {},
   "outputs": [
    {
     "data": {
      "text/html": [
       "<div>\n",
       "<style scoped>\n",
       "    .dataframe tbody tr th:only-of-type {\n",
       "        vertical-align: middle;\n",
       "    }\n",
       "\n",
       "    .dataframe tbody tr th {\n",
       "        vertical-align: top;\n",
       "    }\n",
       "\n",
       "    .dataframe thead th {\n",
       "        text-align: right;\n",
       "    }\n",
       "</style>\n",
       "<table border=\"1\" class=\"dataframe\">\n",
       "  <thead>\n",
       "    <tr style=\"text-align: right;\">\n",
       "      <th></th>\n",
       "      <th>merged_col1</th>\n",
       "    </tr>\n",
       "  </thead>\n",
       "  <tbody>\n",
       "    <tr>\n",
       "      <th>0</th>\n",
       "      <td>[apple, banana, orange, grape, cherry, kiwi, m...</td>\n",
       "    </tr>\n",
       "  </tbody>\n",
       "</table>\n",
       "</div>"
      ],
      "text/plain": [
       "                                         merged_col1\n",
       "0  [apple, banana, orange, grape, cherry, kiwi, m..."
      ]
     },
     "execution_count": 35,
     "metadata": {},
     "output_type": "execute_result"
    }
   ],
   "source": [
    "df.select(F.array_distinct(\n",
    "        F.flatten(\n",
    "            F.collect_list(\"col1\")\n",
    "        )\n",
    "    ).alias(\"merged_col1\")).toPandas()"
   ]
  },
  {
   "cell_type": "code",
   "execution_count": 20,
   "id": "ceff4811",
   "metadata": {},
   "outputs": [
    {
     "data": {
      "text/html": [
       "<div>\n",
       "<style scoped>\n",
       "    .dataframe tbody tr th:only-of-type {\n",
       "        vertical-align: middle;\n",
       "    }\n",
       "\n",
       "    .dataframe tbody tr th {\n",
       "        vertical-align: top;\n",
       "    }\n",
       "\n",
       "    .dataframe thead th {\n",
       "        text-align: right;\n",
       "    }\n",
       "</style>\n",
       "<table border=\"1\" class=\"dataframe\">\n",
       "  <thead>\n",
       "    <tr style=\"text-align: right;\">\n",
       "      <th></th>\n",
       "      <th>col1</th>\n",
       "      <th>col2</th>\n",
       "    </tr>\n",
       "  </thead>\n",
       "  <tbody>\n",
       "    <tr>\n",
       "      <th>0</th>\n",
       "      <td>A</td>\n",
       "      <td>6</td>\n",
       "    </tr>\n",
       "    <tr>\n",
       "      <th>1</th>\n",
       "      <td>A</td>\n",
       "      <td>6</td>\n",
       "    </tr>\n",
       "    <tr>\n",
       "      <th>2</th>\n",
       "      <td>B</td>\n",
       "      <td>9</td>\n",
       "    </tr>\n",
       "    <tr>\n",
       "      <th>3</th>\n",
       "      <td>B</td>\n",
       "      <td>9</td>\n",
       "    </tr>\n",
       "    <tr>\n",
       "      <th>4</th>\n",
       "      <td>C</td>\n",
       "      <td>5</td>\n",
       "    </tr>\n",
       "  </tbody>\n",
       "</table>\n",
       "</div>"
      ],
      "text/plain": [
       "  col1  col2\n",
       "0    A     6\n",
       "1    A     6\n",
       "2    B     9\n",
       "3    B     9\n",
       "4    C     5"
      ]
     },
     "execution_count": 20,
     "metadata": {},
     "output_type": "execute_result"
    }
   ],
   "source": [
    "data = [\n",
    "    (\"A\", 2),\n",
    "    (\"B\", 3),\n",
    "    (\"A\", 4),\n",
    "    (\"C\", 5),\n",
    "    (\"B\", 6)\n",
    "]\n",
    "df = spark.createDataFrame(data, [\"col1\", \"col2\"])\n",
    "\n",
    "result_df = df.select(\n",
    "    \"col1\",\n",
    "    F.sum(\"col2\").over(Window.partitionBy(\"col1\")).alias(\"col2\")\n",
    ")\n",
    "result_df.toPandas()"
   ]
  },
  {
   "cell_type": "code",
   "execution_count": 32,
   "id": "81f1d6a6",
   "metadata": {},
   "outputs": [
    {
     "data": {
      "text/html": [
       "<div>\n",
       "<style scoped>\n",
       "    .dataframe tbody tr th:only-of-type {\n",
       "        vertical-align: middle;\n",
       "    }\n",
       "\n",
       "    .dataframe tbody tr th {\n",
       "        vertical-align: top;\n",
       "    }\n",
       "\n",
       "    .dataframe thead th {\n",
       "        text-align: right;\n",
       "    }\n",
       "</style>\n",
       "<table border=\"1\" class=\"dataframe\">\n",
       "  <thead>\n",
       "    <tr style=\"text-align: right;\">\n",
       "      <th></th>\n",
       "      <th>sum(col2)</th>\n",
       "    </tr>\n",
       "  </thead>\n",
       "  <tbody>\n",
       "    <tr>\n",
       "      <th>0</th>\n",
       "      <td>20</td>\n",
       "    </tr>\n",
       "  </tbody>\n",
       "</table>\n",
       "</div>"
      ],
      "text/plain": [
       "   sum(col2)\n",
       "0         20"
      ]
     },
     "execution_count": 32,
     "metadata": {},
     "output_type": "execute_result"
    }
   ],
   "source": [
    "df.select(F.sum(\"col2\")).toPandas()"
   ]
  },
  {
   "cell_type": "code",
   "execution_count": 101,
   "id": "e6e503e8",
   "metadata": {},
   "outputs": [
    {
     "name": "stdout",
     "output_type": "stream",
     "text": [
      "Original: 'toto OVER (titi)' -> New: 'new_word OVER (titi)'\n",
      "Original: 'amount_column OVER (partition_col)' -> New: 'sum_of_amount OVER (partition_col)'\n",
      "Original: 'my_column + 1, my_column OVER (some_other_column)' -> New: 'my_column + 1, sum_of_my_column OVER (some_other_column)'\n"
     ]
    }
   ],
   "source": [
    "import re\n",
    "\n",
    "def replace_word_before_over(original_string, replacement):\n",
    "    \"\"\"\n",
    "    Replaces the first word in a string of the form \"word OVER (another_word)\".\n",
    "\n",
    "    Args:\n",
    "        original_string (str): The string to modify.\n",
    "        replacement (str): The word to replace the first word with.\n",
    "\n",
    "    Returns:\n",
    "        str: The new string with the word replaced.\n",
    "    \"\"\"\n",
    "    # The regex pattern:\n",
    "    # \\b(\\w+)\\b : Matches and captures a word (group 1)\n",
    "    # (?=\\sOVER\\s\\(.+\\)) : Positive lookahead to ensure it's followed by \" OVER (some_text)\"\n",
    "    pattern = r\"\\b(\\w+)\\b(?=\\sOVER\\s\\(.+\\))\"\n",
    "\n",
    "    # Use re.sub to replace the captured word\n",
    "    return re.sub(pattern, replacement, original_string)\n",
    "\n",
    "# --- Examples ---\n",
    "\n",
    "# Example 1: Original problem\n",
    "text1 = \"toto OVER (titi)\"\n",
    "new_text1 = replace_word_before_over(text1, \"new_word\")\n",
    "print(f\"Original: '{text1}' -> New: '{new_text1}'\")\n",
    "\n",
    "# Example 2: Different words\n",
    "text2 = \"amount_column OVER (partition_col)\"\n",
    "new_text2 = replace_word_before_over(text2, \"sum_of_amount\")\n",
    "print(f\"Original: '{text2}' -> New: '{new_text2}'\")\n",
    "\n",
    "# Example 3: Edge case - the word appears elsewhere\n",
    "text3 = \"my_column + 1, my_column OVER (some_other_column)\"\n",
    "new_text3 = replace_word_before_over(text3, \"sum_of_my_column\")\n",
    "print(f\"Original: '{text3}' -> New: '{new_text3}'\")"
   ]
  }
 ],
 "metadata": {
  "kernelspec": {
   "display_name": "003-row-level-lineage",
   "language": "python",
   "name": "python3"
  },
  "language_info": {
   "codemirror_mode": {
    "name": "ipython",
    "version": 3
   },
   "file_extension": ".py",
   "mimetype": "text/x-python",
   "name": "python",
   "nbconvert_exporter": "python",
   "pygments_lexer": "ipython3",
   "version": "3.12.11"
  }
 },
 "nbformat": 4,
 "nbformat_minor": 5
}
